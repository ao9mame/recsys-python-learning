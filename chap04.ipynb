{
 "cells": [
  {
   "cell_type": "markdown",
   "metadata": {},
   "source": [
    "# 第4章 k近傍法"
   ]
  },
  {
   "cell_type": "markdown",
   "metadata": {},
   "source": [
    "# 準備"
   ]
  },
  {
   "cell_type": "code",
   "execution_count": 1,
   "metadata": {},
   "outputs": [],
   "source": [
    "import pprint\n",
    "import numpy as np\n",
    "np.set_printoptions(precision=3)\n",
    "\n",
    "# 上位K件\n",
    "TOP_K = 3\n",
    "# 近傍アイテム数\n",
    "K_ITEMS = 3\n",
    "# しきい値\n",
    "THETA = 0\n",
    "\n",
    "Du = np.array([\n",
    "               [5, 3, +1],\n",
    "               [6, 2, +1],\n",
    "               [4, 1, +1],\n",
    "               [8, 5, -1],\n",
    "               [2, 4, -1],\n",
    "               [3, 6, -1],\n",
    "               [7, 6, -1],\n",
    "               [4, 2, np.nan],\n",
    "               [5, 1, np.nan],\n",
    "               [8, 6, np.nan],\n",
    "               [3, 4, np.nan],\n",
    "               [4, 7, np.nan],\n",
    "               [4, 4, np.nan],\n",
    "])\n",
    "I = np.arange(Du.shape[0])\n",
    "x = Du[:,:-1]\n",
    "ru = Du[:,-1]\n",
    "\n",
    "Iu = I[~np.isnan(ru)]\n",
    "Iup = I[ru==+1]\n",
    "Iun = I[ru==-1]\n",
    "Iu_not = np.setdiff1d(I, Iu)"
   ]
  },
  {
   "cell_type": "markdown",
   "metadata": {},
   "source": [
    "# 距離"
   ]
  },
  {
   "cell_type": "markdown",
   "metadata": {},
   "source": [
    "## 01 ユークリッド距離"
   ]
  },
  {
   "cell_type": "code",
   "execution_count": 2,
   "metadata": {},
   "outputs": [],
   "source": [
    "def dist(xi, xj):\n",
    "    \"\"\"\n",
    "    距離関数：アイテムiの特徴ベクトルxiとアイテムjの特徴ベクトルxjのユークリッド距離を返す。\n",
    "\n",
    "    Parameters\n",
    "    ----------\n",
    "    xi : ndarray\n",
    "        アイテムiの特徴ベクトル\n",
    "    xj : ndarray\n",
    "        アイテムjの特徴ベクトル\n",
    "\n",
    "    Returns\n",
    "    -------\n",
    "    float\n",
    "        ユークリッド距離\n",
    "    \"\"\"\n",
    "    distance = np.sqrt(np.sum((xi - xj)**2))\n",
    "    return distance"
   ]
  },
  {
   "cell_type": "code",
   "execution_count": 3,
   "metadata": {},
   "outputs": [
    {
     "name": "stdout",
     "output_type": "stream",
     "text": [
      "dist(x7, x2) = 1.000\n",
      "dist(x7, x3) = 5.000\n"
     ]
    }
   ],
   "source": [
    "i = 7\n",
    "j = 2\n",
    "print('dist(x{}, x{}) = {:.3f}'.format(i, j, dist(x[i], x[j])))\n",
    "i = 7\n",
    "j = 3\n",
    "print('dist(x{}, x{}) = {:.3f}'.format(i, j, dist(x[i], x[j])))"
   ]
  },
  {
   "cell_type": "markdown",
   "metadata": {},
   "source": [
    "# 近傍アイテム"
   ]
  },
  {
   "cell_type": "markdown",
   "metadata": {},
   "source": [
    "## 02 アイテム-アイテム距離行列"
   ]
  },
  {
   "cell_type": "code",
   "execution_count": 4,
   "metadata": {},
   "outputs": [
    {
     "name": "stdout",
     "output_type": "stream",
     "text": [
      "D = \n",
      "[[1.414 2.    1.    5.    2.828 4.123 5.   ]\n",
      " [2.    1.414 1.    5.    4.243 5.385 5.385]\n",
      " [4.243 4.472 6.403 1.    6.325 5.    1.   ]\n",
      " [2.236 3.606 3.162 5.099 1.    2.    4.472]\n",
      " [4.123 5.385 6.    4.472 3.606 1.414 3.162]\n",
      " [1.414 2.828 3.    4.123 2.    2.236 3.606]]\n"
     ]
    }
   ],
   "source": [
    "D = np.zeros((I.size, I.size))\n",
    "for i in I:\n",
    "    for j in I:\n",
    "        D[i, j] = dist(x[i], x[j])\n",
    "        \n",
    "print('D = \\n{}'.format(D[np.ix_(Iu_not,Iu)]))"
   ]
  },
  {
   "cell_type": "markdown",
   "metadata": {},
   "source": [
    "## 03 距離の昇順に並べ替えたインデックスの配列"
   ]
  },
  {
   "cell_type": "code",
   "execution_count": 5,
   "metadata": {},
   "outputs": [
    {
     "name": "stdout",
     "output_type": "stream",
     "text": [
      "Ii = \n",
      "[[0 1 2 4 3 5 6]\n",
      " [1 0 2 3 6 4 5]\n",
      " [2 0 1 4 5 3 6]\n",
      " [3 6 0 1 5 2 4]\n",
      " [4 5 0 2 1 6 3]\n",
      " [5 4 0 6 1 2 3]\n",
      " [6 3 0 5 1 4 2]\n",
      " [2 0 1 4 5 3 6]\n",
      " [2 1 0 4 3 5 6]\n",
      " [3 6 0 1 5 4 2]\n",
      " [4 5 0 2 1 6 3]\n",
      " [5 6 4 0 3 1 2]\n",
      " [0 4 5 1 2 6 3]]\n"
     ]
    }
   ],
   "source": [
    "Ii = np.argsort(D[:, Iu])\n",
    "print('Ii = \\n{}'.format(Ii))"
   ]
  },
  {
   "cell_type": "markdown",
   "metadata": {},
   "source": [
    "## 04 近傍k件のアイテムのインデックス配列"
   ]
  },
  {
   "cell_type": "code",
   "execution_count": 6,
   "metadata": {},
   "outputs": [
    {
     "name": "stdout",
     "output_type": "stream",
     "text": [
      "Ii = \n",
      "[[0 1 2]\n",
      " [1 0 2]\n",
      " [2 0 1]\n",
      " [3 6 0]\n",
      " [4 5 0]\n",
      " [5 4 0]\n",
      " [6 3 0]\n",
      " [2 0 1]\n",
      " [2 1 0]\n",
      " [3 6 0]\n",
      " [4 5 0]\n",
      " [5 6 4]\n",
      " [0 4 5]]\n"
     ]
    }
   ],
   "source": [
    "Ii = Ii[:, :TOP_K]\n",
    "print('Ii = \\n{}'.format(Ii))"
   ]
  },
  {
   "cell_type": "markdown",
   "metadata": {},
   "source": [
    "## 05 各対象アイテムの近傍アイテム集合"
   ]
  },
  {
   "cell_type": "code",
   "execution_count": 7,
   "metadata": {},
   "outputs": [
    {
     "name": "stdout",
     "output_type": "stream",
     "text": [
      "Ii = \n",
      "{7: array([2, 0, 1]),\n",
      " 8: array([2, 1, 0]),\n",
      " 9: array([3, 6, 0]),\n",
      " 10: array([4, 5, 0]),\n",
      " 11: array([5, 6, 4]),\n",
      " 12: array([0, 4, 5])}\n"
     ]
    }
   ],
   "source": [
    "Ii = {i: Ii[i] for i in Iu_not}\n",
    "print('Ii = ')\n",
    "pprint.pprint(Ii)"
   ]
  },
  {
   "cell_type": "markdown",
   "metadata": {},
   "source": [
    "# 嗜好予測（多数決方式）"
   ]
  },
  {
   "cell_type": "markdown",
   "metadata": {},
   "source": [
    "## 06 近傍アイテム集合のうち「好き」と評価したアイテム集合\n",
    "## 07 近傍アイテム集合のうち「嫌い」と評価したアイテム集合\n",
    "## 08 多数決方式による予測評価値"
   ]
  },
  {
   "cell_type": "code",
   "execution_count": 8,
   "metadata": {},
   "outputs": [],
   "source": [
    "def predict1(u, i):\n",
    "    \"\"\"\n",
    "    予測関数（多数決方式）：多数決方式によりユーザuのアイテムiに対する予測評価値を返す。\n",
    "\n",
    "    Parameters\n",
    "    ----------\n",
    "    u : int\n",
    "        ユーザuのID（ダミー）\n",
    "    i : int\n",
    "        アイテムiのID\n",
    "\n",
    "    Returns\n",
    "    -------\n",
    "    float\n",
    "        予測評価値\n",
    "    \"\"\"\n",
    "    Iip = Ii[i][np.isin(range(TOP_K), Ii[i])]\n",
    "    print('I{}+ = {}'.format(i, Iip))\n",
    "    Iin = Ii[i][~np.isin(range(TOP_K), Ii[i])]\n",
    "    print('I{}- = {}'.format(i, Iin))\n",
    "    \n",
    "    if Iip.size > Iin.size:\n",
    "        rui = 1\n",
    "    elif Iip.size < Iin.size:\n",
    "        rui = -1\n",
    "    else:\n",
    "        rui = 0\n",
    "        \n",
    "    return rui"
   ]
  },
  {
   "cell_type": "code",
   "execution_count": 9,
   "metadata": {},
   "outputs": [
    {
     "name": "stdout",
     "output_type": "stream",
     "text": [
      "I7+ = [2 0 1]\n",
      "I7- = []\n",
      "predict1(0, 7) = 1.000\n",
      "I9+ = [3]\n",
      "I9- = [6 0]\n",
      "predict1(0, 9) = -1.000\n"
     ]
    }
   ],
   "source": [
    "u = 0\n",
    "i = 7\n",
    "print('predict1({}, {}) = {:.3f}'.format(u, i, predict1(u, i)))\n",
    "u = 0\n",
    "i = 9\n",
    "print('predict1({}, {}) = {:.3f}'.format(u, i, predict1(u, i)))"
   ]
  },
  {
   "cell_type": "markdown",
   "metadata": {},
   "source": [
    "# 嗜好予測（平均方式）"
   ]
  },
  {
   "cell_type": "markdown",
   "metadata": {},
   "source": [
    "## 09 平均方式による予測評価値"
   ]
  },
  {
   "cell_type": "code",
   "execution_count": 10,
   "metadata": {},
   "outputs": [],
   "source": [
    "def predict2(u, i):\n",
    "    \"\"\"\n",
    "    予測関数（平均方式）：平均方式によりユーザuのアイテムiに対する評価値を予測する。\n",
    "\n",
    "    Parameters\n",
    "    ----------\n",
    "    u : int\n",
    "        ユーザuのID（ダミー）\n",
    "    i : int\n",
    "        アイテムiのID\n",
    "\n",
    "    Returns\n",
    "    -------\n",
    "    float\n",
    "        予測評価値\n",
    "    \"\"\"\n",
    "    rui = np.sum([1 if k in range(TOP_K) else -1 for k in Ii[i]]) / TOP_K\n",
    "    return rui"
   ]
  },
  {
   "cell_type": "code",
   "execution_count": 11,
   "metadata": {},
   "outputs": [
    {
     "name": "stdout",
     "output_type": "stream",
     "text": [
      "predict2(0, 7) = 1.000\n",
      "predict2(0, 9) = -0.333\n"
     ]
    }
   ],
   "source": [
    "u = 0\n",
    "i = 7\n",
    "print('predict2({}, {}) = {:.3f}'.format(u, i, predict2(u, i)))\n",
    "u = 0\n",
    "i = 9\n",
    "print('predict2({}, {}) = {:.3f}'.format(u, i, predict2(u, i)))"
   ]
  },
  {
   "cell_type": "markdown",
   "metadata": {},
   "source": [
    "# 推薦"
   ]
  },
  {
   "cell_type": "markdown",
   "metadata": {},
   "source": [
    "## 10 推薦リスト"
   ]
  },
  {
   "cell_type": "code",
   "execution_count": 12,
   "metadata": {},
   "outputs": [],
   "source": [
    "def score(u, i):\n",
    "    \"\"\"\n",
    "    スコア関数：ユーザuのアイテムiに対するスコアを返す。\n",
    "\n",
    "    Parameters\n",
    "    ----------\n",
    "    u : int\n",
    "        ユーザuのID\n",
    "    i : int\n",
    "        アイテムiのID\n",
    "\n",
    "    Returns\n",
    "    -------\n",
    "    float\n",
    "        スコア\n",
    "    \"\"\"\n",
    "    return predict2(u, i)"
   ]
  },
  {
   "cell_type": "code",
   "execution_count": 13,
   "metadata": {},
   "outputs": [],
   "source": [
    "def order(u, I):\n",
    "    \"\"\"\n",
    "    順序付け関数：アイテム集合Iにおいて、ユーザu向けの推薦リストを返す。\n",
    "\n",
    "    Parameters\n",
    "    ----------\n",
    "    u : int\n",
    "        ユーザuのID\n",
    "    I : ndarray\n",
    "        アイテム集合\n",
    "\n",
    "    Returns\n",
    "    -------\n",
    "    list\n",
    "        タプル(アイテムID: スコア)を要素にした推薦リスト\n",
    "    \"\"\"\n",
    "    scores = {i: score(u, i) for i in I}\n",
    "    scores = {i: s for i, s in scores.items() if s > THETA}\n",
    "    rec_list = sorted(scores.items(), key=lambda x:x[1], reverse=True)[:TOP_K]\n",
    "    return rec_list"
   ]
  },
  {
   "cell_type": "code",
   "execution_count": 14,
   "metadata": {},
   "outputs": [
    {
     "name": "stdout",
     "output_type": "stream",
     "text": [
      "rec_list = \n",
      "7: 1.000\n",
      "8: 1.000\n"
     ]
    }
   ],
   "source": [
    "u = 0\n",
    "rec_list = order(u, Iu_not)\n",
    "print('rec_list = ')\n",
    "for i, scr in rec_list:\n",
    "    print('{}: {:.3f}'.format(i, scr))"
   ]
  }
 ],
 "metadata": {
  "kernelspec": {
   "display_name": "Python 3",
   "language": "python",
   "name": "python3"
  },
  "language_info": {
   "codemirror_mode": {
    "name": "ipython",
    "version": 3
   },
   "file_extension": ".py",
   "mimetype": "text/x-python",
   "name": "python",
   "nbconvert_exporter": "python",
   "pygments_lexer": "ipython3",
   "version": "3.7.0"
  }
 },
 "nbformat": 4,
 "nbformat_minor": 2
}
