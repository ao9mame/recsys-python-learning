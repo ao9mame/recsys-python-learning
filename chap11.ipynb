{
 "cells": [
  {
   "cell_type": "markdown",
   "metadata": {},
   "source": [
    "# 第11章 嗜好予測の正確性\n",
    "# テストデータと予測評価値"
   ]
  },
  {
   "cell_type": "markdown",
   "metadata": {},
   "source": [
    "# 準備"
   ]
  },
  {
   "cell_type": "code",
   "execution_count": 1,
   "metadata": {},
   "outputs": [],
   "source": [
    "import numpy as np\n",
    "\n",
    "# テストデータ\n",
    "R = np.array([\n",
    "              [np.nan, 4,      np.nan, np.nan, np.nan, np.nan, 2,      np.nan, np.nan, np.nan],\n",
    "              [np.nan, np.nan, np.nan, np.nan, 2,      np.nan, np.nan, np.nan, 5,      np.nan],\n",
    "              [np.nan, np.nan, np.nan, np.nan, np.nan, np.nan, np.nan, 3,      np.nan, np.nan],\n",
    "])\n",
    "U = np.arange(R.shape[0])\n",
    "I = np.arange(R.shape[1])\n",
    "\n",
    "# 推薦システムAによる予測評価値\n",
    "RA = np.array([\n",
    "               [np.nan, 2,      np.nan, np.nan, np.nan, np.nan, 2,      np.nan, np.nan, np.nan],\n",
    "               [np.nan, np.nan, np.nan, np.nan, 2,      np.nan, np.nan, np.nan, 3,      np.nan],\n",
    "               [np.nan, np.nan, np.nan, np.nan, np.nan, np.nan, np.nan, 3,      np.nan, np.nan],\n",
    "])\n",
    "\n",
    "# 推薦システムBによる予測評価値\n",
    "RB = np.array([\n",
    "               [np.nan, 3,      np.nan, np.nan, np.nan, np.nan, 1,      np.nan, np.nan, np.nan],\n",
    "               [np.nan, np.nan, np.nan, np.nan, 3,      np.nan, np.nan, np.nan, 4,      np.nan],\n",
    "               [np.nan, np.nan, np.nan, np.nan, np.nan, np.nan, np.nan, 4,      np.nan, np.nan],\n",
    "])"
   ]
  },
  {
   "cell_type": "markdown",
   "metadata": {},
   "source": [
    "# 平均絶対誤差"
   ]
  },
  {
   "cell_type": "markdown",
   "metadata": {},
   "source": [
    "## 01 推薦システムAのMAE\n",
    "## 02 推薦システムBのMAE"
   ]
  },
  {
   "cell_type": "code",
   "execution_count": 2,
   "metadata": {},
   "outputs": [
    {
     "name": "stdout",
     "output_type": "stream",
     "text": [
      "MAE_A = 0.800\n",
      "MAE_B = 1.000\n"
     ]
    }
   ],
   "source": [
    "MAE_A = np.nansum(np.abs(RA - R)) / np.count_nonzero(R[~np.isnan(R)])\n",
    "print('MAE_{} = {:.3f}'.format('A', MAE_A))\n",
    "MAE_B = np.nansum(np.abs(RB - R)) / np.count_nonzero(R[~np.isnan(R)])\n",
    "print('MAE_{} = {:.3f}'.format('B', MAE_B))"
   ]
  },
  {
   "cell_type": "markdown",
   "metadata": {},
   "source": [
    "# 平均二乗誤差"
   ]
  },
  {
   "cell_type": "markdown",
   "metadata": {},
   "source": [
    "## 03 推薦システムAのMSE\n",
    "## 04 推薦システムBのMSE"
   ]
  },
  {
   "cell_type": "code",
   "execution_count": 3,
   "metadata": {},
   "outputs": [
    {
     "name": "stdout",
     "output_type": "stream",
     "text": [
      "MSE_A = 1.600\n",
      "MSE_B = 1.000\n"
     ]
    }
   ],
   "source": [
    "MSE_A = np.nansum((RA - R)**2) / np.count_nonzero(R[~np.isnan(R)])\n",
    "print('MSE_{} = {:.3f}'.format('A', MSE_A))\n",
    "MSE_B = np.nansum((RB - R)**2) / np.count_nonzero(R[~np.isnan(R)])\n",
    "print('MSE_{} = {:.3f}'.format('B', MSE_B))"
   ]
  },
  {
   "cell_type": "markdown",
   "metadata": {},
   "source": [
    "# 二乗平均平方根誤差"
   ]
  },
  {
   "cell_type": "markdown",
   "metadata": {},
   "source": [
    "## 05 推薦システムAのRMSE\n",
    "## 06 推薦システムBのRMSE"
   ]
  },
  {
   "cell_type": "code",
   "execution_count": 4,
   "metadata": {},
   "outputs": [
    {
     "name": "stdout",
     "output_type": "stream",
     "text": [
      "RMSE_A = 1.265\n",
      "RMSE_B = 1.000\n"
     ]
    }
   ],
   "source": [
    "RMSE_A = np.sqrt(np.nansum((RA - R)**2) / np.count_nonzero(R[~np.isnan(R)]))\n",
    "print('RMSE_{} = {:.3f}'.format('A', RMSE_A))\n",
    "RMSE_B = np.sqrt(np.nansum((RB - R)**2) / np.count_nonzero(R[~np.isnan(R)]))\n",
    "print('RMSE_{} = {:.3f}'.format('B', RMSE_B))"
   ]
  },
  {
   "cell_type": "markdown",
   "metadata": {},
   "source": [
    "# 正規化MAEと正規化RMSE"
   ]
  },
  {
   "cell_type": "markdown",
   "metadata": {},
   "source": [
    "## 07 推薦システムAのNMAE\n",
    "## 08 推薦システムBのNMAE\n",
    "## 09 推薦システムAのNRMSE\n",
    "## 10 推薦システムBのNRMSE"
   ]
  },
  {
   "cell_type": "code",
   "execution_count": 5,
   "metadata": {},
   "outputs": [
    {
     "name": "stdout",
     "output_type": "stream",
     "text": [
      "NMAE_A = 0.200\n",
      "NMAE_B = 0.250\n",
      "NRMSE_A = 0.316\n",
      "NRMSE_B = 0.250\n"
     ]
    }
   ],
   "source": [
    "R_MAX = max(np.nanmax(R), np.nanmax(RA), np.nanmax(RB))\n",
    "R_MIN = min(np.nanmin(R), np.nanmin(RA), np.nanmin(RB))\n",
    "\n",
    "# NMAE\n",
    "NMAE_A = MAE_A / (R_MAX - R_MIN)\n",
    "print('NMAE_{} = {:.3f}'.format('A', NMAE_A))\n",
    "NMAE_B = MAE_B / (R_MAX - R_MIN)\n",
    "print('NMAE_{} = {:.3f}'.format('B', NMAE_B))\n",
    "\n",
    "# NRMSE\n",
    "NRMSE_A = RMSE_A / (R_MAX - R_MIN)\n",
    "print('NRMSE_{} = {:.3f}'.format('A', NRMSE_A))\n",
    "NRMSE_B = RMSE_B / (R_MAX - R_MIN)\n",
    "print('NRMSE_{} = {:.3f}'.format('B', NRMSE_B))"
   ]
  }
 ],
 "metadata": {
  "kernelspec": {
   "display_name": "Python 3",
   "language": "python",
   "name": "python3"
  },
  "language_info": {
   "codemirror_mode": {
    "name": "ipython",
    "version": 3
   },
   "file_extension": ".py",
   "mimetype": "text/x-python",
   "name": "python",
   "nbconvert_exporter": "python",
   "pygments_lexer": "ipython3",
   "version": "3.7.0"
  }
 },
 "nbformat": 4,
 "nbformat_minor": 2
}
