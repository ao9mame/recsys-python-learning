{
 "cells": [
  {
   "cell_type": "markdown",
   "metadata": {},
   "source": [
    "# 第5章 ユーザベース協調フィルタリング"
   ]
  },
  {
   "cell_type": "markdown",
   "metadata": {},
   "source": [
    "# 準備"
   ]
  },
  {
   "cell_type": "code",
   "execution_count": 1,
   "metadata": {},
   "outputs": [],
   "source": [
    "import pprint\n",
    "import numpy as np\n",
    "np.set_printoptions(precision=3)\n",
    "\n",
    "# 近傍ユーザ数\n",
    "K_USERS = 3\n",
    "# 閾値\n",
    "THETA = 0\n",
    "\n",
    "R = np.array([\n",
    "              [np.nan, 4,      3,      1,      2,      np.nan],\n",
    "              [5,      5,      4,      np.nan, 3,      3     ],\n",
    "              [4,      np.nan, 5,      3,      2,      np.nan],\n",
    "              [np.nan, 3,      np.nan, 2,      1,      1     ],\n",
    "              [2,      1,      2,      4,      np.nan, 3     ],\n",
    "])\n",
    "U = np.arange(R.shape[0])\n",
    "I = np.arange(R.shape[1])\n",
    "Ui = [U[~np.isnan(R)[:,i]] for i in I]\n",
    "Iu = [I[~np.isnan(R)[u,:]] for u in U]\n",
    "ru_mean = np.nanmean(R, axis=1)\n",
    "R2 = R - ru_mean.reshape((ru_mean.size, 1))"
   ]
  },
  {
   "cell_type": "markdown",
   "metadata": {},
   "source": [
    "# ピアソンの相関係数"
   ]
  },
  {
   "cell_type": "markdown",
   "metadata": {},
   "source": [
    "## 01 ピアソンの相関係数（分子）\n",
    "## 02 ピアソンの相関係数の算出（分母左部）\n",
    "## 03 ピアソンの相関係数の算出（分母右部）"
   ]
  },
  {
   "cell_type": "code",
   "execution_count": 2,
   "metadata": {},
   "outputs": [],
   "source": [
    "def pearson1(u, v):\n",
    "    \"\"\"\n",
    "    評価値行列Rにおけるユーザuとユーザvのピアソンの相関係数を返す。\n",
    "\n",
    "    Parameters\n",
    "    ----------\n",
    "    u : int\n",
    "        ユーザuのID\n",
    "    v : int\n",
    "        ユーザvのID\n",
    "\n",
    "    Returns\n",
    "    -------\n",
    "    float\n",
    "        ピアソンの相関係数\n",
    "    \"\"\"\n",
    "    Iuv = np.intersect1d(Iu[u], Iu[v])\n",
    "\n",
    "    num = np.sum([(R[u, i] - ru_mean[u]) * (R[v, i] - ru_mean[v]) for i in Iuv])\n",
    "    print('num = {}'.format(num))\n",
    "    den_u = np.sqrt(np.sum([(R[u, i] - ru_mean[u])**2 for i in Iuv]))\n",
    "    print('den_u = {:.3f}'.format(den_u))\n",
    "    den_v = np.sqrt(np.sum([(R[v, i] - ru_mean[v])**2 for i in Iuv]))\n",
    "    print('den_v = {:.3f}'.format(den_v))\n",
    "    \n",
    "    prsn = num / (den_u * den_v)\n",
    "    return prsn"
   ]
  },
  {
   "cell_type": "code",
   "execution_count": 3,
   "metadata": {},
   "outputs": [
    {
     "name": "stdout",
     "output_type": "stream",
     "text": [
      "num = 2.0\n",
      "den_u = 1.658\n",
      "den_v = 1.414\n",
      "pearson1(0, 1) = 0.853\n"
     ]
    }
   ],
   "source": [
    "u = 0\n",
    "v = 1\n",
    "prsn = pearson1(u, v)\n",
    "print('pearson1({}, {}) = {:.3f}'.format(u, v, prsn))"
   ]
  },
  {
   "cell_type": "markdown",
   "metadata": {},
   "source": [
    "# 平均中心化評価値行列に基づくピアソンの相関係数"
   ]
  },
  {
   "cell_type": "markdown",
   "metadata": {},
   "source": [
    "## 04 ピアソンの相関係数（分子）"
   ]
  },
  {
   "cell_type": "markdown",
   "metadata": {},
   "source": [
    "## 05 ピアソンの相関係数の算出（分母左部）"
   ]
  },
  {
   "cell_type": "markdown",
   "metadata": {},
   "source": [
    "## 06 ピアソンの相関係数の算出（分母右部）"
   ]
  },
  {
   "cell_type": "code",
   "execution_count": 4,
   "metadata": {},
   "outputs": [],
   "source": [
    "def pearson2(u, v):\n",
    "    \"\"\"\n",
    "    平均中心化評価値行列R2におけるユーザuとユーザvのピアソンの相関係数を返す。\n",
    "\n",
    "    Parameters\n",
    "    ----------\n",
    "    u : int\n",
    "        ユーザuのID\n",
    "    v : int\n",
    "        ユーザvのID\n",
    "\n",
    "    Returns\n",
    "    -------\n",
    "    float\n",
    "        ピアソンの相関係数\n",
    "    \"\"\"\n",
    "    Iuv = np.intersect1d(Iu[u], Iu[v])\n",
    "    \n",
    "    num = np.sum([R2[u, i] * R2[v, i] for i in Iuv])\n",
    "    print('num = {}'.format(num))\n",
    "    den_u = np.sqrt(np.sum([R2[u, i]**2 for i in Iuv]))\n",
    "    print('den_u = {:.3f}'.format(den_u))\n",
    "    den_v = np.sqrt(np.sum([R2[v, i]**2 for i in Iuv]))\n",
    "    print('den_v = {:.3f}'.format(den_v))\n",
    "\n",
    "    prsn = num / (den_u * den_v)\n",
    "    return prsn"
   ]
  },
  {
   "cell_type": "code",
   "execution_count": 5,
   "metadata": {},
   "outputs": [
    {
     "name": "stdout",
     "output_type": "stream",
     "text": [
      "num = 2.0\n",
      "den_u = 1.658\n",
      "den_v = 1.414\n",
      "pearson2(0, 1) = 0.853\n"
     ]
    }
   ],
   "source": [
    "u = 0\n",
    "v = 1\n",
    "prsn = pearson2(u, v)\n",
    "print('pearson2({}, {}) = {:.3f}'.format(u, v, prsn))"
   ]
  },
  {
   "cell_type": "markdown",
   "metadata": {},
   "source": [
    "# ユーザ-ユーザ類似度行列"
   ]
  },
  {
   "cell_type": "code",
   "execution_count": 6,
   "metadata": {},
   "outputs": [],
   "source": [
    "def pearson2(u, v):\n",
    "    \"\"\"\n",
    "    平均中心化評価値行列R2におけるユーザuとユーザvのピアソンの相関係数を返す。\n",
    "\n",
    "    Parameters\n",
    "    ----------\n",
    "    u : int\n",
    "        ユーザuのID\n",
    "    v : int\n",
    "        ユーザvのID\n",
    "\n",
    "    Returns\n",
    "    -------\n",
    "    float\n",
    "        ピアソンの相関係数\n",
    "    \"\"\"\n",
    "    Iuv = np.intersect1d(Iu[u], Iu[v])\n",
    "    \n",
    "    num = np.sum([R2[u, i] * R2[v, i] for i in Iuv])\n",
    "#     print('num = {}'.format(num))\n",
    "    den_u = np.sqrt(np.sum([R2[u, i]**2 for i in Iuv]))\n",
    "#     print('den_u = {:.3f}'.format(den_u))\n",
    "    den_v = np.sqrt(np.sum([R2[v, i]**2 for i in Iuv]))\n",
    "#     print('den_v = {:.3f}'.format(den_v))\n",
    "\n",
    "    prsn = num / (den_u * den_v)\n",
    "    return prsn"
   ]
  },
  {
   "cell_type": "code",
   "execution_count": 7,
   "metadata": {},
   "outputs": [],
   "source": [
    "def sim(u, v):\n",
    "    \"\"\"\n",
    "    ユーザ類似度関数：ユーザuとユーザvのユーザ類似度を返す。\n",
    "\n",
    "    Parameters\n",
    "    ----------\n",
    "    u : int\n",
    "        ユーザuのID\n",
    "    v : int\n",
    "        ユーザvのID\n",
    "\n",
    "    Returns\n",
    "    -------\n",
    "    float\n",
    "        ユーザ類似度\n",
    "    \"\"\"\n",
    "    return pearson2(u, v)"
   ]
  },
  {
   "cell_type": "markdown",
   "metadata": {},
   "source": [
    "## 07 ユーザ-ユーザ類似度行列"
   ]
  },
  {
   "cell_type": "code",
   "execution_count": 8,
   "metadata": {},
   "outputs": [
    {
     "name": "stdout",
     "output_type": "stream",
     "text": [
      "S = \n",
      "[[ 1.     0.853  0.623  0.582 -0.997]\n",
      " [ 0.853  1.     0.649  0.968 -0.853]\n",
      " [ 0.623  0.649  1.     0.8   -0.569]\n",
      " [ 0.582  0.968  0.8    1.    -0.551]\n",
      " [-0.997 -0.853 -0.569 -0.551  1.   ]]\n"
     ]
    }
   ],
   "source": [
    "S = np.zeros((U.size, U.size))\n",
    "for u in U:\n",
    "    for v in U:\n",
    "        S[u, v] = sim(u, v)\n",
    "print('S = \\n{}'.format(S))"
   ]
  },
  {
   "cell_type": "markdown",
   "metadata": {},
   "source": [
    "# 類似ユーザの選定"
   ]
  },
  {
   "cell_type": "markdown",
   "metadata": {},
   "source": [
    "## 08 類似度上位k人のユーザ集合"
   ]
  },
  {
   "cell_type": "markdown",
   "metadata": {},
   "source": [
    "## 09 類似度がしきい値以上のユーザ集合"
   ]
  },
  {
   "cell_type": "code",
   "execution_count": 9,
   "metadata": {},
   "outputs": [
    {
     "name": "stdout",
     "output_type": "stream",
     "text": [
      "Uu = \n",
      "{0: {1: 0.8528028654224417,\n",
      "     2: 0.6225430174794672,\n",
      "     3: 0.5816750507471109,\n",
      "     4: -0.9968461286620518},\n",
      " 1: {0: 0.8528028654224417,\n",
      "     2: 0.6488856845230501,\n",
      "     3: 0.9684959969581863,\n",
      "     4: -0.8528028654224418},\n",
      " 2: {0: 0.6225430174794672,\n",
      "     1: 0.6488856845230501,\n",
      "     3: 0.7999999999999998,\n",
      "     4: -0.5685352436149611},\n",
      " 3: {0: 0.5816750507471109,\n",
      "     1: 0.9684959969581863,\n",
      "     2: 0.7999999999999998,\n",
      "     4: -0.550920031004556},\n",
      " 4: {0: -0.9968461286620518,\n",
      "     1: -0.8528028654224418,\n",
      "     2: -0.5685352436149611,\n",
      "     3: -0.550920031004556}}\n",
      "Uu = \n",
      "{0: {1: 0.8528028654224417, 2: 0.6225430174794672, 3: 0.5816750507471109},\n",
      " 1: {0: 0.8528028654224417, 2: 0.6488856845230501, 3: 0.9684959969581863},\n",
      " 2: {0: 0.6225430174794672, 1: 0.6488856845230501, 3: 0.7999999999999998},\n",
      " 3: {0: 0.5816750507471109, 1: 0.9684959969581863, 2: 0.7999999999999998},\n",
      " 4: {1: -0.8528028654224418, 2: -0.5685352436149611, 3: -0.550920031004556}}\n",
      "Uu = \n",
      "{0: {1: 0.8528028654224417, 2: 0.6225430174794672, 3: 0.5816750507471109},\n",
      " 1: {0: 0.8528028654224417, 2: 0.6488856845230501, 3: 0.9684959969581863},\n",
      " 2: {0: 0.6225430174794672, 1: 0.6488856845230501, 3: 0.7999999999999998},\n",
      " 3: {0: 0.5816750507471109, 1: 0.9684959969581863, 2: 0.7999999999999998},\n",
      " 4: {}}\n",
      "Uu = \n",
      "{0: array([1, 2, 3]),\n",
      " 1: array([3, 0, 2]),\n",
      " 2: array([3, 1, 0]),\n",
      " 3: array([1, 2, 0]),\n",
      " 4: array([], dtype=float64)}\n"
     ]
    }
   ],
   "source": [
    "# ユーザ-ユーザ類似度行列から対象ユーザを除外した辞書\n",
    "Uu = {u: {v: S[u,v] for v in U if u!=v} for u in U}\n",
    "print('Uu = ')\n",
    "pprint.pprint(Uu)\n",
    "Uu = {u: dict(sorted(Uu[u].items(), key=lambda x:x[1], reverse=True)[:K_USERS]) for u in U}\n",
    "print('Uu = ')\n",
    "pprint.pprint(Uu)\n",
    "Uu = {u: {user: score for user, score in Uu[u].items() if score >= THETA} for u in U}\n",
    "print('Uu = ')\n",
    "pprint.pprint(Uu)\n",
    "# 各ユーザの類似ユーザ集合をまとめた辞書\n",
    "Uu = {u: np.array(list(Uu[u].keys())) for u in U}\n",
    "print('Uu = ')\n",
    "pprint.pprint(Uu)"
   ]
  },
  {
   "cell_type": "markdown",
   "metadata": {},
   "source": [
    "# 嗜好予測"
   ]
  },
  {
   "cell_type": "markdown",
   "metadata": {},
   "source": [
    "## 10 類似ユーザ集合の中でアイテムiを評価済みのユーザ集合"
   ]
  },
  {
   "cell_type": "markdown",
   "metadata": {},
   "source": [
    "## 11 予測評価値"
   ]
  },
  {
   "cell_type": "code",
   "execution_count": 10,
   "metadata": {},
   "outputs": [],
   "source": [
    "def predict(u, i):\n",
    "    \"\"\"\n",
    "    予測関数：ユーザuのアイテムiに対する予測評価値を返す。\n",
    "\n",
    "    Parameters\n",
    "    ----------\n",
    "    u : int\n",
    "        ユーザuのID\n",
    "    i : int\n",
    "        アイテムiのID\n",
    "\n",
    "    Returns\n",
    "    -------\n",
    "    float\n",
    "        ユーザuのアイテムiに対する予測評価値\n",
    "    \"\"\"\n",
    "    Uui = np.intersect1d(Uu[u], Ui[i])\n",
    "    print('U{}{} = {}'.format(u, i, Uui))\n",
    "\n",
    "    if Uui.size <= 0: return ru_mean[u]\n",
    "    rui_pred = ru_mean[u] + np.sum(S[u, Uui] * R2[Uui, i]) / np.sum(np.abs(S[u, Uui]))\n",
    "    \n",
    "    return rui_pred"
   ]
  },
  {
   "cell_type": "code",
   "execution_count": 11,
   "metadata": {},
   "outputs": [
    {
     "name": "stdout",
     "output_type": "stream",
     "text": [
      "U00 = [1 2]\n",
      "r00 = 3.289\n",
      "U05 = [1 3]\n",
      "r05 = 1.601\n"
     ]
    }
   ],
   "source": [
    "u = 0\n",
    "i = 0\n",
    "print('r{}{} = {:.3f}'.format(u, i, predict(u, i)))\n",
    "u = 0\n",
    "i = 5\n",
    "print('r{}{} = {:.3f}'.format(u, i, predict(u, i)))"
   ]
  },
  {
   "cell_type": "markdown",
   "metadata": {},
   "source": [
    "# 評価値行列の補完"
   ]
  },
  {
   "cell_type": "markdown",
   "metadata": {},
   "source": [
    "## 12 評価値行列の補完"
   ]
  },
  {
   "cell_type": "code",
   "execution_count": 12,
   "metadata": {},
   "outputs": [
    {
     "name": "stdout",
     "output_type": "stream",
     "text": [
      "U00 = [1 2]\n",
      "U05 = [1 3]\n",
      "U13 = [0 2 3]\n",
      "U21 = [0 1 3]\n",
      "U25 = [1 3]\n",
      "U30 = [1 2]\n",
      "U32 = [0 1 2]\n",
      "U44 = []\n",
      "R'' = \n",
      "[[3.289 4.    3.    1.    2.    1.601]\n",
      " [5.    5.    4.    3.449 3.    3.   ]\n",
      " [4.    4.747 5.    3.    2.    2.638]\n",
      " [2.524 3.    2.384 2.    1.    1.   ]\n",
      " [2.    1.    2.    4.    2.4   3.   ]]\n"
     ]
    }
   ],
   "source": [
    "R3 = R.copy()\n",
    "for u in U:\n",
    "    for i in I:\n",
    "        if np.isnan(R3[u, i]):\n",
    "            R3[u, i] = predict(u, i)\n",
    "print('R\\'\\' = \\n{}'.format(R3))"
   ]
  }
 ],
 "metadata": {
  "kernelspec": {
   "display_name": "Python 3",
   "language": "python",
   "name": "python3"
  },
  "language_info": {
   "codemirror_mode": {
    "name": "ipython",
    "version": 3
   },
   "file_extension": ".py",
   "mimetype": "text/x-python",
   "name": "python",
   "nbconvert_exporter": "python",
   "pygments_lexer": "ipython3",
   "version": "3.7.0"
  }
 },
 "nbformat": 4,
 "nbformat_minor": 2
}
