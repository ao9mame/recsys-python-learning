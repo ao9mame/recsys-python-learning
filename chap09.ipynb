{
 "cells": [
  {
   "cell_type": "markdown",
   "metadata": {},
   "source": [
    "# 第9章 単純ベイズ分類器"
   ]
  },
  {
   "cell_type": "markdown",
   "metadata": {},
   "source": [
    "# 準備"
   ]
  },
  {
   "cell_type": "code",
   "execution_count": 1,
   "metadata": {},
   "outputs": [],
   "source": [
    "import pprint\n",
    "import numpy as np\n",
    "from fractions import Fraction\n",
    "\n",
    "# 上位K件\n",
    "TOP_K = 3\n",
    "# スムージングパラメタ\n",
    "ALPHA = 1\n",
    "# クラス数\n",
    "N = 2\n",
    "# 各特徴量がとりうる値のユニーク数\n",
    "M = [2, 2, 2, 2, 2, 2]\n",
    "# しきい値\n",
    "THETA = 0.5\n",
    "\n",
    "Du = np.array([\n",
    "               [1, 0, 0, 0, 1, 0, +1],\n",
    "               [0, 1, 0, 0, 1, 0, +1],\n",
    "               [1, 1, 0, 0, 1, 0, +1],\n",
    "               [1, 0, 0, 1, 1, 0, +1],\n",
    "               [1, 0, 0, 0, 0, 1, +1],\n",
    "               [0, 1, 0, 1, 0, 1, +1],\n",
    "               [0, 0, 1, 0, 1, 0, -1],\n",
    "               [0, 0, 1, 1, 1, 0, -1],\n",
    "               [0, 1, 0, 0, 1, 1, -1],\n",
    "               [0, 0, 1, 0, 0, 1, -1],\n",
    "               [1, 1, 0, 1, 1, 0, np.nan],\n",
    "               [0, 0, 1, 0, 1, 1, np.nan],\n",
    "               [0, 1, 1, 1, 1, 0, np.nan],\n",
    "])\n",
    "I = np.arange(Du.shape[0])\n",
    "x = Du[:,:-1]\n",
    "ru = Du[:,-1]\n",
    "\n",
    "Iu = I[~np.isnan(ru)]\n",
    "Iu_not = np.setdiff1d(I, Iu)\n",
    "DuL = Du[Iu]\n",
    "xL = x[Iu]\n",
    "ruL = ru[Iu]\n",
    "DuU = Du[Iu_not]\n",
    "xU = x[Iu_not]"
   ]
  },
  {
   "cell_type": "markdown",
   "metadata": {},
   "source": [
    "# 問題設定"
   ]
  },
  {
   "cell_type": "markdown",
   "metadata": {},
   "source": [
    "# 事前確率"
   ]
  },
  {
   "cell_type": "markdown",
   "metadata": {},
   "source": [
    "## 01 評価値がrとなる事前確率（分子）"
   ]
  },
  {
   "cell_type": "markdown",
   "metadata": {},
   "source": [
    "## 02 評価値がrとなる事前確率（分母）"
   ]
  },
  {
   "cell_type": "code",
   "execution_count": 2,
   "metadata": {},
   "outputs": [],
   "source": [
    "def P_prior(r):\n",
    "    \"\"\"\n",
    "    評価値がrとなる事前確率を返す。\n",
    "\n",
    "    Parameters\n",
    "    ----------\n",
    "    r : int\n",
    "        評価値\n",
    "\n",
    "    Returns\n",
    "    -------\n",
    "    Fraction\n",
    "        事前確率\n",
    "    \"\"\"\n",
    "    num = DuL[ruL==r].shape[0]\n",
    "    den = DuL.shape[0]\n",
    "    prob = Fraction(num, den, _normalize=False)\n",
    "    return prob"
   ]
  },
  {
   "cell_type": "code",
   "execution_count": 3,
   "metadata": {},
   "outputs": [
    {
     "name": "stdout",
     "output_type": "stream",
     "text": [
      "P(R=+1) = 6/10\n",
      "P(R=-1) = 4/10\n"
     ]
    }
   ],
   "source": [
    "r = +1\n",
    "print('P(R={:+}) = {}'.format(r, P_prior(r)))\n",
    "r = -1\n",
    "print('P(R={:+}) = {}'.format(r, P_prior(r)))"
   ]
  },
  {
   "cell_type": "markdown",
   "metadata": {},
   "source": [
    "# 特徴量kに関する条件付き確率"
   ]
  },
  {
   "cell_type": "markdown",
   "metadata": {},
   "source": [
    "## 03 特徴量kに関する条件付き確率（分子）"
   ]
  },
  {
   "cell_type": "markdown",
   "metadata": {},
   "source": [
    "## 04 特徴量kに関する条件付き確率（分母）"
   ]
  },
  {
   "cell_type": "code",
   "execution_count": 4,
   "metadata": {},
   "outputs": [],
   "source": [
    "def P_cond(i, k, r):\n",
    "    \"\"\"\n",
    "    評価値がrとなる条件下でアイテムiの特徴量kに関する条件付き確率を返す。\n",
    "\n",
    "    Parameters\n",
    "    ----------\n",
    "    i : int\n",
    "        アイテムiのID\n",
    "    k : int\n",
    "        特徴量kのインデックス\n",
    "    r : int\n",
    "        評価値\n",
    "\n",
    "    Returns\n",
    "    -------\n",
    "    Fraction\n",
    "        条件付き確率\n",
    "    \"\"\"\n",
    "    num = DuL[(ruL==r) * (DuL[:, k] == Du[i, k])].shape[0]\n",
    "    den = DuL[ruL==r].shape[0]\n",
    "    prob = Fraction(num, den, _normalize=False)\n",
    "    return prob"
   ]
  },
  {
   "cell_type": "code",
   "execution_count": 5,
   "metadata": {},
   "outputs": [
    {
     "name": "stdout",
     "output_type": "stream",
     "text": [
      "P(X0=x10,0|R=+1) = 4/6\n",
      "P(X0=x10,0|R=-1) = 0/4\n"
     ]
    }
   ],
   "source": [
    "i = 10\n",
    "k = 0\n",
    "r = +1\n",
    "print('P(X{}=x{},{}|R={:+}) = {}'.format(k, i, k, r, P_cond(i, k, r)))\n",
    "r = -1\n",
    "print('P(X{}=x{},{}|R={:+}) = {}'.format(k, i, k, r, P_cond(i, k, r)))"
   ]
  },
  {
   "cell_type": "markdown",
   "metadata": {},
   "source": [
    "# 嗜好予測"
   ]
  },
  {
   "cell_type": "markdown",
   "metadata": {},
   "source": [
    "## 05 好き嫌いの確率"
   ]
  },
  {
   "cell_type": "code",
   "execution_count": 6,
   "metadata": {},
   "outputs": [],
   "source": [
    "def P(i, r):\n",
    "    \"\"\"\n",
    "    アイテムiの評価値がrとなる確率を返す。\n",
    "\n",
    "    Parameters\n",
    "    ----------\n",
    "    i : int\n",
    "        アイテムiのID\n",
    "    r : int\n",
    "        評価値\n",
    "\n",
    "    Returns\n",
    "    -------\n",
    "    Fraction\n",
    "        事前確率\n",
    "    list of Fraction\n",
    "        各特徴量に関する条件付き確率\n",
    "    float\n",
    "        好き嫌いの確率\n",
    "    \"\"\"\n",
    "    pp = P_prior(r)\n",
    "    pk = [P_cond(i, k, r) for k in range(0, x.shape[1])]\n",
    "    prob = pp * float(np.prod(pk))\n",
    "    return pp, pk, prob"
   ]
  },
  {
   "cell_type": "code",
   "execution_count": 7,
   "metadata": {},
   "outputs": [
    {
     "name": "stdout",
     "output_type": "stream",
     "text": [
      "P(R=+1|1,1,0,1,1,0) = 6/10×4/6×3/6×6/6×2/6×4/6×4/6 = 0.030\n",
      "P(R=-1|1,1,0,1,1,0) = 4/10×0/4×1/4×1/4×1/4×3/4×2/4 = 0.000\n"
     ]
    }
   ],
   "source": [
    "i = 10\n",
    "r = +1\n",
    "pp, pk, prob = P(i, r)\n",
    "left = 'P(R={:+}|'.format(r) + ','.join(map(str, map(int, x[i]))) + ')'\n",
    "right = str(pp) + '×' + '×'.join(map(str, pk))\n",
    "print('{} = {} = {:.3f}'.format(left, right, prob))\n",
    "\n",
    "r = -1\n",
    "pp, pk, prob = P(i, r)\n",
    "left = 'P(R={:+}|'.format(r) + ','.join(map(str, map(int, x[i]))) + ')'\n",
    "right = str(pp) + '×' + '×'.join(map(str, pk))\n",
    "print('{} = {} = {:.3f}'.format(left, right, prob))"
   ]
  },
  {
   "cell_type": "markdown",
   "metadata": {},
   "source": [
    "# ラプラススムージング"
   ]
  },
  {
   "cell_type": "markdown",
   "metadata": {},
   "source": [
    "## 06 評価値がrとなる事前確率（分子）（ラプラススムージングあり）"
   ]
  },
  {
   "cell_type": "markdown",
   "metadata": {},
   "source": [
    "## 07 評価値がrとなる事前確率（分母）（ラプラススムージングあり）"
   ]
  },
  {
   "cell_type": "code",
   "execution_count": 8,
   "metadata": {},
   "outputs": [],
   "source": [
    "def P_prior(r):\n",
    "    \"\"\"\n",
    "    評価値がrとなる事前確率を返す。\n",
    "\n",
    "    Parameters\n",
    "    ----------\n",
    "    r : int\n",
    "        評価値\n",
    "\n",
    "    Returns\n",
    "    -------\n",
    "    Fraction\n",
    "        事前確率\n",
    "    \"\"\"\n",
    "    num = DuL[ruL==r].shape[0] + ALPHA\n",
    "    den = DuL.shape[0] + ALPHA * N\n",
    "    prob = Fraction(num, den, _normalize=False)\n",
    "    return prob"
   ]
  },
  {
   "cell_type": "code",
   "execution_count": 9,
   "metadata": {},
   "outputs": [
    {
     "name": "stdout",
     "output_type": "stream",
     "text": [
      "P(R=+1) = 7/12\n",
      "P(R=-1) = 5/12\n"
     ]
    }
   ],
   "source": [
    "r = +1\n",
    "print('P(R={:+}) = {}'.format(r, P_prior(r)))\n",
    "r = -1\n",
    "print('P(R={:+}) = {}'.format(r, P_prior(r)))"
   ]
  },
  {
   "cell_type": "markdown",
   "metadata": {},
   "source": [
    "## 08 特徴量kに関する条件付き確率（分子）"
   ]
  },
  {
   "cell_type": "markdown",
   "metadata": {},
   "source": [
    "## 09 特徴量kに関する条件付き確率（分母）"
   ]
  },
  {
   "cell_type": "code",
   "execution_count": 10,
   "metadata": {},
   "outputs": [],
   "source": [
    "def P_cond(i, k, r):\n",
    "    \"\"\"\n",
    "    評価値がrとなる条件下でアイテムiの特徴量kに関する条件付き確率を返す。\n",
    "\n",
    "    Parameters\n",
    "    ----------\n",
    "    i : int\n",
    "        アイテムiのID\n",
    "    k : int\n",
    "        特徴量kのインデックス\n",
    "    r : int\n",
    "        評価値\n",
    "\n",
    "    Returns\n",
    "    -------\n",
    "    Fraction\n",
    "        条件付き確率\n",
    "    \"\"\"\n",
    "    num = DuL[(ruL==r) * (DuL[:, k] == Du[i, k])].shape[0] + ALPHA\n",
    "    den = DuL[ruL==r].shape[0] + ALPHA * M[k]\n",
    "    prob = Fraction(num, den, _normalize=False)\n",
    "    return prob"
   ]
  },
  {
   "cell_type": "code",
   "execution_count": 11,
   "metadata": {},
   "outputs": [
    {
     "name": "stdout",
     "output_type": "stream",
     "text": [
      "P(X0=x10,0|R=+1) = 5/8\n",
      "P(X0=x10,0|R=-1) = 1/6\n"
     ]
    }
   ],
   "source": [
    "i = 10\n",
    "k = 0\n",
    "r = +1\n",
    "print('P(X{}=x{},{}|R={:+}) = {}'.format(k, i, k, r, P_cond(i, k, r)))\n",
    "r = -1\n",
    "print('P(X{}=x{},{}|R={:+}) = {}'.format(k, i, k, r, P_cond(i, k, r)))"
   ]
  },
  {
   "cell_type": "markdown",
   "metadata": {},
   "source": [
    "# 推薦"
   ]
  },
  {
   "cell_type": "code",
   "execution_count": 12,
   "metadata": {},
   "outputs": [],
   "source": [
    "def score(u, i):\n",
    "    \"\"\"\n",
    "    スコア関数：ユーザuのアイテムiに対するスコアを返す。\n",
    "\n",
    "    Parameters\n",
    "    ----------\n",
    "    u : int\n",
    "        ユーザuのID（ダミー）\n",
    "    i : int\n",
    "        アイテムiのID\n",
    "\n",
    "    Returns\n",
    "    -------\n",
    "    float\n",
    "        スコア\n",
    "    \"\"\"\n",
    "    \n",
    "    _, _, scr_p = P(i, +1)\n",
    "    _, _, scr_n = P(i, -1)\n",
    "    scr = scr_p / (scr_p + scr_n)\n",
    "    return scr"
   ]
  },
  {
   "cell_type": "code",
   "execution_count": 13,
   "metadata": {},
   "outputs": [],
   "source": [
    "def order(u, I):\n",
    "    \"\"\"\n",
    "    順序付け関数：アイテム集合Iにおいて、ユーザu向けの推薦リストを返す。\n",
    "\n",
    "    Parameters\n",
    "    ----------\n",
    "    u : int\n",
    "        ユーザuのID\n",
    "    I : ndarray\n",
    "        アイテム集合\n",
    "\n",
    "    Returns\n",
    "    -------\n",
    "    list\n",
    "        タプル(アイテムID: スコア)を要素にした推薦リスト\n",
    "    \"\"\"\n",
    "    scores = {i: score(u, i) for i in I}\n",
    "    scores = {i: score for i, score in scores.items() if score >= THETA}\n",
    "    rec_list = sorted(scores.items(), key=lambda x:x[1], reverse=True)[:TOP_K]\n",
    "    return rec_list"
   ]
  },
  {
   "cell_type": "markdown",
   "metadata": {},
   "source": [
    "## 10 ユーザuのアイテムiに対するスコア"
   ]
  },
  {
   "cell_type": "code",
   "execution_count": 14,
   "metadata": {},
   "outputs": [
    {
     "name": "stdout",
     "output_type": "stream",
     "text": [
      "scores = \n",
      "{10: 0.9646054787625311, 11: 0.05517691284650013, 12: 0.18936236007174223}\n"
     ]
    }
   ],
   "source": [
    "u = 0\n",
    "scores = {i: score(u, i) for i in Iu_not}\n",
    "print('scores = ')\n",
    "pprint.pprint(scores)"
   ]
  },
  {
   "cell_type": "markdown",
   "metadata": {},
   "source": [
    "## 11 推薦リスト"
   ]
  },
  {
   "cell_type": "code",
   "execution_count": 15,
   "metadata": {},
   "outputs": [
    {
     "name": "stdout",
     "output_type": "stream",
     "text": [
      "rec_list = \n",
      "10: 0.965\n"
     ]
    }
   ],
   "source": [
    "u = 0\n",
    "rec_list = order(u, Iu_not)\n",
    "print('rec_list = ')\n",
    "for i, scr in rec_list:\n",
    "    print('{}: {:.3f}'.format(i, scr))"
   ]
  }
 ],
 "metadata": {
  "kernelspec": {
   "display_name": "Python 3",
   "language": "python",
   "name": "python3"
  },
  "language_info": {
   "codemirror_mode": {
    "name": "ipython",
    "version": 3
   },
   "file_extension": ".py",
   "mimetype": "text/x-python",
   "name": "python",
   "nbconvert_exporter": "python",
   "pygments_lexer": "ipython3",
   "version": "3.7.0"
  }
 },
 "nbformat": 4,
 "nbformat_minor": 2
}
