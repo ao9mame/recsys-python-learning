{
 "cells": [
  {
   "cell_type": "markdown",
   "metadata": {},
   "source": [
    "# 第１章 評価履歴"
   ]
  },
  {
   "cell_type": "markdown",
   "metadata": {},
   "source": [
    "## 準備"
   ]
  },
  {
   "cell_type": "code",
   "execution_count": 1,
   "metadata": {},
   "outputs": [],
   "source": [
    "import numpy as np"
   ]
  },
  {
   "cell_type": "markdown",
   "metadata": {},
   "source": [
    "# 評価履歴"
   ]
  },
  {
   "cell_type": "markdown",
   "metadata": {},
   "source": [
    "## 01 評価履歴の生成"
   ]
  },
  {
   "cell_type": "code",
   "execution_count": 2,
   "metadata": {},
   "outputs": [],
   "source": [
    "Du = np.array(\n",
    "    [[ 5, 3, 1],\n",
    "     [ 6, 2, 1],\n",
    "     [ 4, 1, 1],\n",
    "     [ 8, 5, -1],\n",
    "     [ 2, 4, -1],\n",
    "     [ 3, 6, -1],\n",
    "     [ 7, 6, -1],\n",
    "     [ 4, 2, np.nan],\n",
    "     [ 5, 1, np.nan],\n",
    "     [ 8, 6, np.nan],\n",
    "     [ 3, 4, np.nan],\n",
    "     [ 4, 7, np.nan],\n",
    "     [ 4, 4, np.nan]]\n",
    ")"
   ]
  },
  {
   "cell_type": "code",
   "execution_count": 3,
   "metadata": {},
   "outputs": [
    {
     "name": "stdout",
     "output_type": "stream",
     "text": [
      "Du = \n",
      "[[ 5.  3.  1.]\n",
      " [ 6.  2.  1.]\n",
      " [ 4.  1.  1.]\n",
      " [ 8.  5. -1.]\n",
      " [ 2.  4. -1.]\n",
      " [ 3.  6. -1.]\n",
      " [ 7.  6. -1.]\n",
      " [ 4.  2. nan]\n",
      " [ 5.  1. nan]\n",
      " [ 8.  6. nan]\n",
      " [ 3.  4. nan]\n",
      " [ 4.  7. nan]\n",
      " [ 4.  4. nan]]\n"
     ]
    }
   ],
   "source": [
    "print('Du = \\n{}'.format(Du))"
   ]
  },
  {
   "cell_type": "markdown",
   "metadata": {},
   "source": [
    "## 02 評価履歴の形状"
   ]
  },
  {
   "cell_type": "code",
   "execution_count": 4,
   "metadata": {},
   "outputs": [
    {
     "name": "stdout",
     "output_type": "stream",
     "text": [
      "Duの形状 = (13, 3)\n"
     ]
    }
   ],
   "source": [
    "print('Duの形状 = {}'.format(Du.shape))"
   ]
  },
  {
   "cell_type": "markdown",
   "metadata": {},
   "source": [
    "## 03 評価履歴の行数"
   ]
  },
  {
   "cell_type": "code",
   "execution_count": 5,
   "metadata": {},
   "outputs": [
    {
     "name": "stdout",
     "output_type": "stream",
     "text": [
      "Duの行数 = 13\n"
     ]
    }
   ],
   "source": [
    "print('Duの行数 = {}'.format(Du.shape[0]))"
   ]
  },
  {
   "cell_type": "markdown",
   "metadata": {},
   "source": [
    "## 04 評価履歴の列数"
   ]
  },
  {
   "cell_type": "code",
   "execution_count": 6,
   "metadata": {},
   "outputs": [
    {
     "name": "stdout",
     "output_type": "stream",
     "text": [
      "Duの列数 = 3\n"
     ]
    }
   ],
   "source": [
    "print('Duの列数 = {}'.format(Du.shape[1]))"
   ]
  },
  {
   "cell_type": "markdown",
   "metadata": {},
   "source": [
    "## 05 評価履歴の全要素数"
   ]
  },
  {
   "cell_type": "code",
   "execution_count": 7,
   "metadata": {},
   "outputs": [
    {
     "name": "stdout",
     "output_type": "stream",
     "text": [
      "Duの全要素数 = 39\n"
     ]
    }
   ],
   "source": [
    "print('Duの全要素数 = {}'.format(Du.size))"
   ]
  },
  {
   "cell_type": "markdown",
   "metadata": {},
   "source": [
    "## 06 アイテム集合"
   ]
  },
  {
   "cell_type": "code",
   "execution_count": 8,
   "metadata": {},
   "outputs": [
    {
     "name": "stdout",
     "output_type": "stream",
     "text": [
      "I = [ 0  1  2  3  4  5  6  7  8  9 10 11 12]\n"
     ]
    }
   ],
   "source": [
    "I = np.arange(Du.shape[0])\n",
    "print('I = {}'.format(I))"
   ]
  },
  {
   "cell_type": "markdown",
   "metadata": {},
   "source": [
    "## 07 アイテムの特徴ベクトルの集合"
   ]
  },
  {
   "cell_type": "code",
   "execution_count": 9,
   "metadata": {},
   "outputs": [
    {
     "name": "stdout",
     "output_type": "stream",
     "text": [
      "x = \n",
      "[[5. 3.]\n",
      " [6. 2.]\n",
      " [4. 1.]\n",
      " [8. 5.]\n",
      " [2. 4.]\n",
      " [3. 6.]\n",
      " [7. 6.]\n",
      " [4. 2.]\n",
      " [5. 1.]\n",
      " [8. 6.]\n",
      " [3. 4.]\n",
      " [4. 7.]\n",
      " [4. 4.]]\n"
     ]
    }
   ],
   "source": [
    "x = Du[:, :-1]\n",
    "print('x = \\n{}'.format(x))"
   ]
  },
  {
   "cell_type": "markdown",
   "metadata": {},
   "source": [
    "## 08 アイテムiの特徴ベクトル"
   ]
  },
  {
   "cell_type": "code",
   "execution_count": 10,
   "metadata": {},
   "outputs": [
    {
     "name": "stdout",
     "output_type": "stream",
     "text": [
      "x0 = [5. 3.]\n"
     ]
    }
   ],
   "source": [
    "i = 0\n",
    "print('x{} = {}'.format(i, x[i]))"
   ]
  },
  {
   "cell_type": "markdown",
   "metadata": {},
   "source": [
    "# 評価値"
   ]
  },
  {
   "cell_type": "markdown",
   "metadata": {},
   "source": [
    "## 09 評価値集合"
   ]
  },
  {
   "cell_type": "code",
   "execution_count": 11,
   "metadata": {},
   "outputs": [
    {
     "name": "stdout",
     "output_type": "stream",
     "text": [
      "ru = [ 1.  1.  1. -1. -1. -1. -1. nan nan nan nan nan nan]\n"
     ]
    }
   ],
   "source": [
    "ru = Du[:, -1]\n",
    "print('ru = {}'.format(ru))"
   ]
  },
  {
   "cell_type": "markdown",
   "metadata": {},
   "source": [
    "## 10 評価値集合の形状"
   ]
  },
  {
   "cell_type": "code",
   "execution_count": 12,
   "metadata": {},
   "outputs": [
    {
     "name": "stdout",
     "output_type": "stream",
     "text": [
      "ruの形状 = (13,)\n"
     ]
    }
   ],
   "source": [
    "print('ruの形状 = {}'.format(ru.shape))"
   ]
  },
  {
   "cell_type": "markdown",
   "metadata": {},
   "source": [
    "## 11 評価値集合の全要素数"
   ]
  },
  {
   "cell_type": "code",
   "execution_count": 13,
   "metadata": {},
   "outputs": [
    {
     "name": "stdout",
     "output_type": "stream",
     "text": [
      "ruの全要素数 = 13\n"
     ]
    }
   ],
   "source": [
    "print('ruの全要素数 = {}'.format(ru.size))"
   ]
  },
  {
   "cell_type": "code",
   "execution_count": 14,
   "metadata": {},
   "outputs": [
    {
     "name": "stdout",
     "output_type": "stream",
     "text": [
      "ruの全要素数 = 13\n"
     ]
    }
   ],
   "source": [
    "print('ruの全要素数 = {}'.format(ru.shape[0]))"
   ]
  },
  {
   "cell_type": "markdown",
   "metadata": {},
   "source": [
    "## 12 評価値集合の部分集合"
   ]
  },
  {
   "cell_type": "code",
   "execution_count": 15,
   "metadata": {},
   "outputs": [
    {
     "name": "stdout",
     "output_type": "stream",
     "text": [
      "ru2からru4までの評価値 = [ 1. -1. -1.]\n"
     ]
    }
   ],
   "source": [
    "i = 2\n",
    "j = 5\n",
    "print('ru{}からru{}までの評価値 = {}'.format(i, j-1, ru[i:j]))"
   ]
  },
  {
   "cell_type": "markdown",
   "metadata": {},
   "source": [
    "## 13 評価値集合の要素の逆順"
   ]
  },
  {
   "cell_type": "code",
   "execution_count": 16,
   "metadata": {},
   "outputs": [
    {
     "name": "stdout",
     "output_type": "stream",
     "text": [
      "ruの逆順 = [nan nan nan nan nan nan -1. -1. -1. -1.  1.  1.  1.]\n"
     ]
    }
   ],
   "source": [
    "print('ruの逆順 = {}'.format(ru[::-1]))"
   ]
  },
  {
   "cell_type": "markdown",
   "metadata": {},
   "source": [
    "## 14 アイテムiに対する評価値"
   ]
  },
  {
   "cell_type": "code",
   "execution_count": 17,
   "metadata": {},
   "outputs": [
    {
     "name": "stdout",
     "output_type": "stream",
     "text": [
      "ru0 = 1.0\n"
     ]
    }
   ],
   "source": [
    "i = 0\n",
    "print('ru{} = {}'.format(i, ru[i]))"
   ]
  },
  {
   "cell_type": "markdown",
   "metadata": {},
   "source": [
    "# アイテム集合"
   ]
  },
  {
   "cell_type": "markdown",
   "metadata": {},
   "source": [
    "## 15 ユーザuが未評価であるか否かの判定"
   ]
  },
  {
   "cell_type": "code",
   "execution_count": 18,
   "metadata": {},
   "outputs": [
    {
     "name": "stdout",
     "output_type": "stream",
     "text": [
      "ユーザuが未評価 = [False False False False False False False  True  True  True  True  True\n",
      "  True]\n"
     ]
    }
   ],
   "source": [
    "print('ユーザuが未評価 = {}'.format(np.isnan(ru)))"
   ]
  },
  {
   "cell_type": "markdown",
   "metadata": {},
   "source": [
    "## 16 ユーザが評価済みであるか否かの判定"
   ]
  },
  {
   "cell_type": "code",
   "execution_count": 19,
   "metadata": {},
   "outputs": [
    {
     "name": "stdout",
     "output_type": "stream",
     "text": [
      "ユーザuが評価済み = [ True  True  True  True  True  True  True False False False False False\n",
      " False]\n"
     ]
    }
   ],
   "source": [
    "print('ユーザuが評価済み = {}'.format(~np.isnan(ru)))"
   ]
  },
  {
   "cell_type": "markdown",
   "metadata": {},
   "source": [
    "## 17 ユーザuが評価済みのアイテム集合"
   ]
  },
  {
   "cell_type": "code",
   "execution_count": 20,
   "metadata": {},
   "outputs": [
    {
     "name": "stdout",
     "output_type": "stream",
     "text": [
      "Iu = [0 1 2 3 4 5 6]\n"
     ]
    }
   ],
   "source": [
    "Iu = I[~np.isnan(ru)]\n",
    "print('Iu = {}'.format(Iu))"
   ]
  },
  {
   "cell_type": "markdown",
   "metadata": {},
   "source": [
    "## 18 ユーザuが「好き」と評価したアイテム集合"
   ]
  },
  {
   "cell_type": "code",
   "execution_count": 21,
   "metadata": {},
   "outputs": [
    {
     "name": "stdout",
     "output_type": "stream",
     "text": [
      "Iu+ = [0 1 2]\n"
     ]
    }
   ],
   "source": [
    "Iup = I[ru==1]\n",
    "print('Iu+ = {}'.format(Iup))"
   ]
  },
  {
   "cell_type": "markdown",
   "metadata": {},
   "source": [
    "## 19 ユーザuが「嫌い」と評価したアイテム集合"
   ]
  },
  {
   "cell_type": "code",
   "execution_count": 22,
   "metadata": {},
   "outputs": [
    {
     "name": "stdout",
     "output_type": "stream",
     "text": [
      "Iu- = [3 4 5 6]\n"
     ]
    }
   ],
   "source": [
    "Iun = I[ru==-1]\n",
    "print('Iu- = {}'.format(Iun))"
   ]
  },
  {
   "cell_type": "markdown",
   "metadata": {},
   "source": [
    "## 20 ユーザuが未評価のアイテム集合"
   ]
  },
  {
   "cell_type": "code",
   "execution_count": 23,
   "metadata": {},
   "outputs": [
    {
     "name": "stdout",
     "output_type": "stream",
     "text": [
      "Iu_not = [ 7  8  9 10 11 12]\n"
     ]
    }
   ],
   "source": [
    "Iu_not = I[np.isnan(ru)]\n",
    "print('Iu_not = {}'.format(Iu_not))"
   ]
  },
  {
   "cell_type": "markdown",
   "metadata": {},
   "source": [
    "# 訓練データと予測対象データ"
   ]
  },
  {
   "cell_type": "markdown",
   "metadata": {},
   "source": [
    "## 21 訓練データ"
   ]
  },
  {
   "cell_type": "code",
   "execution_count": 24,
   "metadata": {},
   "outputs": [
    {
     "name": "stdout",
     "output_type": "stream",
     "text": [
      "DuL = \n",
      "[[ 5.  3.  1.]\n",
      " [ 6.  2.  1.]\n",
      " [ 4.  1.  1.]\n",
      " [ 8.  5. -1.]\n",
      " [ 2.  4. -1.]\n",
      " [ 3.  6. -1.]\n",
      " [ 7.  6. -1.]]\n"
     ]
    }
   ],
   "source": [
    "DuL = Du[Iu]\n",
    "print('DuL = \\n{}'.format(DuL))"
   ]
  },
  {
   "cell_type": "markdown",
   "metadata": {},
   "source": [
    "## 22 訓練事例数"
   ]
  },
  {
   "cell_type": "code",
   "execution_count": 25,
   "metadata": {},
   "outputs": [
    {
     "name": "stdout",
     "output_type": "stream",
     "text": [
      "|DuL| = 7\n"
     ]
    }
   ],
   "source": [
    "print('|DuL| = {}'.format(DuL.shape[0]))"
   ]
  },
  {
   "cell_type": "markdown",
   "metadata": {},
   "source": [
    "## 23 正事例数"
   ]
  },
  {
   "cell_type": "code",
   "execution_count": 26,
   "metadata": {},
   "outputs": [
    {
     "name": "stdout",
     "output_type": "stream",
     "text": [
      "|DuL+| = 3\n"
     ]
    }
   ],
   "source": [
    "print('|DuL+| = {}'.format(DuL[DuL[:, 2] == 1].shape[0]))"
   ]
  },
  {
   "cell_type": "markdown",
   "metadata": {},
   "source": [
    "## 24 負事例数"
   ]
  },
  {
   "cell_type": "code",
   "execution_count": 27,
   "metadata": {},
   "outputs": [
    {
     "name": "stdout",
     "output_type": "stream",
     "text": [
      "|DuL-| = 4\n"
     ]
    }
   ],
   "source": [
    "print('|DuL-| = {}'.format(DuL[DuL[:, 2] == -1].shape[0]))"
   ]
  },
  {
   "cell_type": "markdown",
   "metadata": {},
   "source": [
    "## 25 予測対象データ"
   ]
  },
  {
   "cell_type": "code",
   "execution_count": 28,
   "metadata": {},
   "outputs": [
    {
     "name": "stdout",
     "output_type": "stream",
     "text": [
      "DuU = \n",
      "[[ 4.  2. nan]\n",
      " [ 5.  1. nan]\n",
      " [ 8.  6. nan]\n",
      " [ 3.  4. nan]\n",
      " [ 4.  7. nan]\n",
      " [ 4.  4. nan]]\n"
     ]
    }
   ],
   "source": [
    "DuU = Du[Iu_not]\n",
    "print('DuU = \\n{}'.format(DuU))"
   ]
  },
  {
   "cell_type": "markdown",
   "metadata": {},
   "source": [
    "## 26 予測対象事例数"
   ]
  },
  {
   "cell_type": "code",
   "execution_count": 29,
   "metadata": {},
   "outputs": [
    {
     "name": "stdout",
     "output_type": "stream",
     "text": [
      "|DuU| = 6\n"
     ]
    }
   ],
   "source": [
    "print('|DuU| = {}'.format(DuU.shape[0]))"
   ]
  }
 ],
 "metadata": {
  "kernelspec": {
   "display_name": "Python 3",
   "language": "python",
   "name": "python3"
  },
  "language_info": {
   "codemirror_mode": {
    "name": "ipython",
    "version": 3
   },
   "file_extension": ".py",
   "mimetype": "text/x-python",
   "name": "python",
   "nbconvert_exporter": "python",
   "pygments_lexer": "ipython3",
   "version": "3.7.0"
  }
 },
 "nbformat": 4,
 "nbformat_minor": 2
}
