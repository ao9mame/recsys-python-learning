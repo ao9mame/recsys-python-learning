{
 "cells": [
  {
   "cell_type": "markdown",
   "metadata": {},
   "source": [
    "# 第2章 評価値行列"
   ]
  },
  {
   "cell_type": "markdown",
   "metadata": {},
   "source": [
    "## 準備"
   ]
  },
  {
   "cell_type": "code",
   "execution_count": 1,
   "metadata": {},
   "outputs": [],
   "source": [
    "import pprint\n",
    "import numpy as np\n",
    "np.set_printoptions(precision=3)"
   ]
  },
  {
   "cell_type": "markdown",
   "metadata": {},
   "source": [
    "# 評価値行列"
   ]
  },
  {
   "cell_type": "markdown",
   "metadata": {},
   "source": [
    "## 01 評価値行列の生成"
   ]
  },
  {
   "cell_type": "code",
   "execution_count": 2,
   "metadata": {},
   "outputs": [
    {
     "name": "stdout",
     "output_type": "stream",
     "text": [
      "R = \n",
      "[[nan  4.  3.  1.  2. nan]\n",
      " [ 5.  5.  4. nan  3.  3.]\n",
      " [ 4. nan  5.  3.  2. nan]\n",
      " [nan  3. nan  2.  1.  1.]\n",
      " [ 2.  1.  2.  4. nan  3.]]\n"
     ]
    }
   ],
   "source": [
    "R = np.array(\n",
    "    [\n",
    "        [np.nan, 4, 3, 1, 2, np.nan],\n",
    "        [5, 5, 4, np.nan, 3, 3],\n",
    "        [4, np.nan, 5, 3, 2, np.nan],\n",
    "        [np.nan, 3, np.nan, 2, 1, 1],\n",
    "        [2, 1, 2, 4, np.nan, 3]\n",
    "    ]\n",
    ")\n",
    "print('R = \\n{}'.format(R))"
   ]
  },
  {
   "cell_type": "markdown",
   "metadata": {},
   "source": [
    "## 02 ユーザ集合"
   ]
  },
  {
   "cell_type": "code",
   "execution_count": 3,
   "metadata": {},
   "outputs": [
    {
     "name": "stdout",
     "output_type": "stream",
     "text": [
      "U = [0 1 2 3 4]\n"
     ]
    }
   ],
   "source": [
    "U = np.arange(R.shape[0])\n",
    "print('U = {}'.format(U))"
   ]
  },
  {
   "cell_type": "markdown",
   "metadata": {},
   "source": [
    "## 03 アイテム集合"
   ]
  },
  {
   "cell_type": "code",
   "execution_count": 4,
   "metadata": {},
   "outputs": [
    {
     "name": "stdout",
     "output_type": "stream",
     "text": [
      "I = [0 1 2 3 4 5]\n"
     ]
    }
   ],
   "source": [
    "I = np.arange(R.shape[1])\n",
    "print('I = {}'.format(I))"
   ]
  },
  {
   "cell_type": "markdown",
   "metadata": {},
   "source": [
    "## 04 ユーザ数"
   ]
  },
  {
   "cell_type": "code",
   "execution_count": 5,
   "metadata": {},
   "outputs": [
    {
     "name": "stdout",
     "output_type": "stream",
     "text": [
      "|U| = 5\n"
     ]
    }
   ],
   "source": [
    "print('|U| = {}'.format(U.size))"
   ]
  },
  {
   "cell_type": "markdown",
   "metadata": {},
   "source": [
    "## 05 アイテム数"
   ]
  },
  {
   "cell_type": "code",
   "execution_count": 6,
   "metadata": {},
   "outputs": [
    {
     "name": "stdout",
     "output_type": "stream",
     "text": [
      "|I| = 6\n"
     ]
    }
   ],
   "source": [
    "print('|I| = {}'.format(I.size))"
   ]
  },
  {
   "cell_type": "markdown",
   "metadata": {},
   "source": [
    "## 06 評価値"
   ]
  },
  {
   "cell_type": "code",
   "execution_count": 7,
   "metadata": {},
   "outputs": [
    {
     "name": "stdout",
     "output_type": "stream",
     "text": [
      "r01 = 4.0\n"
     ]
    }
   ],
   "source": [
    "u = 0\n",
    "i = 1\n",
    "print('r{}{} = {}'.format(u, i, R[u][i]))"
   ]
  },
  {
   "cell_type": "markdown",
   "metadata": {},
   "source": [
    "# 評価値行列の疎性"
   ]
  },
  {
   "cell_type": "markdown",
   "metadata": {},
   "source": [
    "## 07 評価値行列の全要素数"
   ]
  },
  {
   "cell_type": "code",
   "execution_count": 8,
   "metadata": {},
   "outputs": [
    {
     "name": "stdout",
     "output_type": "stream",
     "text": [
      "Rの全要素数 = 30\n"
     ]
    }
   ],
   "source": [
    "print('Rの全要素数 = {}'.format(R.size))"
   ]
  },
  {
   "cell_type": "markdown",
   "metadata": {},
   "source": [
    "## 08 観測されているか否かの判定"
   ]
  },
  {
   "cell_type": "code",
   "execution_count": 9,
   "metadata": {},
   "outputs": [
    {
     "name": "stdout",
     "output_type": "stream",
     "text": [
      "観測値 = \n",
      "[[False  True  True  True  True False]\n",
      " [ True  True  True False  True  True]\n",
      " [ True False  True  True  True False]\n",
      " [False  True False  True  True  True]\n",
      " [ True  True  True  True False  True]]\n"
     ]
    }
   ],
   "source": [
    "print('観測値 = \\n{}'.format(~np.isnan(R)))"
   ]
  },
  {
   "cell_type": "markdown",
   "metadata": {},
   "source": [
    "## 09 評価値行列の観測値数"
   ]
  },
  {
   "cell_type": "code",
   "execution_count": 10,
   "metadata": {},
   "outputs": [
    {
     "name": "stdout",
     "output_type": "stream",
     "text": [
      "|R| = 22\n"
     ]
    }
   ],
   "source": [
    "print('|R| = {}'.format(np.count_nonzero(~np.isnan(R))))"
   ]
  },
  {
   "cell_type": "code",
   "execution_count": 11,
   "metadata": {},
   "outputs": [
    {
     "name": "stdout",
     "output_type": "stream",
     "text": [
      "|R| = 22\n"
     ]
    }
   ],
   "source": [
    "print('|R| = {}'.format(np.size(R[~np.isnan(R)])))"
   ]
  },
  {
   "cell_type": "markdown",
   "metadata": {},
   "source": [
    "## 10 評価値行列の疎性"
   ]
  },
  {
   "cell_type": "code",
   "execution_count": 12,
   "metadata": {},
   "outputs": [
    {
     "name": "stdout",
     "output_type": "stream",
     "text": [
      "sparsity = 0.267\n"
     ]
    }
   ],
   "source": [
    "sparsity = 1 - np.count_nonzero(~np.isnan(R)) / (U.size * I.size)\n",
    "print('sparsity = {:.3f}'.format(sparsity))"
   ]
  },
  {
   "cell_type": "markdown",
   "metadata": {},
   "source": [
    "# 評価済みアイテム集合"
   ]
  },
  {
   "cell_type": "markdown",
   "metadata": {},
   "source": [
    "## 11 ユーザuが評価済みのアイテム集合"
   ]
  },
  {
   "cell_type": "code",
   "execution_count": 13,
   "metadata": {},
   "outputs": [
    {
     "name": "stdout",
     "output_type": "stream",
     "text": [
      "I0 = [1 2 3 4]\n"
     ]
    }
   ],
   "source": [
    "u = 0\n",
    "print('I{} = {}'.format(u, I[~np.isnan(R[u])]))"
   ]
  },
  {
   "cell_type": "markdown",
   "metadata": {},
   "source": [
    "## 12 各ユーザの評価済みアイテム集合"
   ]
  },
  {
   "cell_type": "code",
   "execution_count": 14,
   "metadata": {},
   "outputs": [
    {
     "name": "stdout",
     "output_type": "stream",
     "text": [
      "Iu = \n",
      "[array([1, 2, 3, 4]),\n",
      " array([0, 1, 2, 4, 5]),\n",
      " array([0, 2, 3, 4]),\n",
      " array([1, 3, 4, 5]),\n",
      " array([0, 1, 2, 3, 5])]\n"
     ]
    }
   ],
   "source": [
    "Iu = [I[~np.isnan(R[u])] for u in U]\n",
    "print('Iu = ')\n",
    "pprint.pprint(Iu)"
   ]
  },
  {
   "cell_type": "markdown",
   "metadata": {},
   "source": [
    "## 13 ユーザuとユーザvの共通の評価済みアイテム集合"
   ]
  },
  {
   "cell_type": "code",
   "execution_count": 15,
   "metadata": {},
   "outputs": [
    {
     "name": "stdout",
     "output_type": "stream",
     "text": [
      "I01 = [1 2 4]\n"
     ]
    }
   ],
   "source": [
    "u = 0\n",
    "v = 1\n",
    "Iuv = np.intersect1d(Iu[u], Iu[v])\n",
    "print('I{}{} = {}'.format(u, v, Iuv))"
   ]
  },
  {
   "cell_type": "markdown",
   "metadata": {},
   "source": [
    "## 14 アイテムiを評価済みのユーザ集合"
   ]
  },
  {
   "cell_type": "code",
   "execution_count": 16,
   "metadata": {},
   "outputs": [
    {
     "name": "stdout",
     "output_type": "stream",
     "text": [
      "U0 = [1 2 4]\n"
     ]
    }
   ],
   "source": [
    "i = 0\n",
    "print('U{} = {}'.format(i, U[~np.isnan(R)[:, i]]))"
   ]
  },
  {
   "cell_type": "code",
   "execution_count": 17,
   "metadata": {},
   "outputs": [
    {
     "data": {
      "text/plain": [
       "array([1, 2, 4])"
      ]
     },
     "execution_count": 17,
     "metadata": {},
     "output_type": "execute_result"
    }
   ],
   "source": [
    "U[~np.isnan(R)[:, i]]"
   ]
  },
  {
   "cell_type": "markdown",
   "metadata": {},
   "source": [
    "## 15 各アイテムの評価済みユーザ集合"
   ]
  },
  {
   "cell_type": "code",
   "execution_count": 18,
   "metadata": {},
   "outputs": [
    {
     "name": "stdout",
     "output_type": "stream",
     "text": [
      "Ui = \n",
      "[array([1, 2, 4]),\n",
      " array([0, 1, 3, 4]),\n",
      " array([0, 1, 2, 4]),\n",
      " array([0, 2, 3, 4]),\n",
      " array([0, 1, 2, 3]),\n",
      " array([1, 3, 4])]\n"
     ]
    }
   ],
   "source": [
    "Ui = [U[~np.isnan(R)[:, i]] for i in I]\n",
    "print('Ui = ')\n",
    "pprint.pprint(Ui)"
   ]
  },
  {
   "cell_type": "markdown",
   "metadata": {},
   "source": [
    "## 16 アイテムiとアイテムjの両方を評価済みのユーザ集合"
   ]
  },
  {
   "cell_type": "code",
   "execution_count": 19,
   "metadata": {},
   "outputs": [
    {
     "name": "stdout",
     "output_type": "stream",
     "text": [
      "U04 = [1 2]\n"
     ]
    }
   ],
   "source": [
    "i = 0\n",
    "j = 4\n",
    "Uij = np.intersect1d(Ui[i], Ui[j])\n",
    "print('U{}{} = {}'.format(i, j, Uij))"
   ]
  },
  {
   "cell_type": "markdown",
   "metadata": {},
   "source": [
    "## 17 評価値行列全体の平均評価値"
   ]
  },
  {
   "cell_type": "code",
   "execution_count": 20,
   "metadata": {},
   "outputs": [
    {
     "name": "stdout",
     "output_type": "stream",
     "text": [
      "R全体の平均評価値 = 2.864\n"
     ]
    }
   ],
   "source": [
    "print('R全体の平均評価値 = {:.3f}'.format(np.nanmean(R)))"
   ]
  },
  {
   "cell_type": "markdown",
   "metadata": {},
   "source": [
    "## 18 各アイテムの平均評価値"
   ]
  },
  {
   "cell_type": "code",
   "execution_count": 21,
   "metadata": {},
   "outputs": [
    {
     "name": "stdout",
     "output_type": "stream",
     "text": [
      "ri_mean = [3.667 3.25  3.5   2.5   2.    2.333]\n"
     ]
    }
   ],
   "source": [
    "ri_mean = np.nanmean(R, axis=0)\n",
    "print('ri_mean = {}'.format(ri_mean))"
   ]
  },
  {
   "cell_type": "markdown",
   "metadata": {},
   "source": [
    "## 19 各ユーザの平均評価値"
   ]
  },
  {
   "cell_type": "code",
   "execution_count": 22,
   "metadata": {},
   "outputs": [
    {
     "name": "stdout",
     "output_type": "stream",
     "text": [
      "ru_mean = [2.5  4.   3.5  1.75 2.4 ]\n"
     ]
    }
   ],
   "source": [
    "ru_mean = np.nanmean(R, axis=1)\n",
    "print('ru_mean = {}'.format(ru_mean))"
   ]
  },
  {
   "cell_type": "markdown",
   "metadata": {},
   "source": [
    "## 20 評価値ベクトルの形状変換"
   ]
  },
  {
   "cell_type": "code",
   "execution_count": 23,
   "metadata": {},
   "outputs": [
    {
     "name": "stdout",
     "output_type": "stream",
     "text": [
      "ru_mean = \n",
      "[[2.5 ]\n",
      " [4.  ]\n",
      " [3.5 ]\n",
      " [1.75]\n",
      " [2.4 ]]\n"
     ]
    }
   ],
   "source": [
    "print('ru_mean = \\n{}'.format(np.reshape(ru_mean, (5, 1))))"
   ]
  },
  {
   "cell_type": "markdown",
   "metadata": {},
   "source": [
    "## 21 平均中心化評価値行列"
   ]
  },
  {
   "cell_type": "code",
   "execution_count": 24,
   "metadata": {},
   "outputs": [
    {
     "name": "stdout",
     "output_type": "stream",
     "text": [
      "R' = \n",
      "[[  nan  1.5   0.5  -1.5  -0.5    nan]\n",
      " [ 1.    1.    0.     nan -1.   -1.  ]\n",
      " [ 0.5    nan  1.5  -0.5  -1.5    nan]\n",
      " [  nan  1.25   nan  0.25 -0.75 -0.75]\n",
      " [-0.4  -1.4  -0.4   1.6    nan  0.6 ]]\n"
     ]
    }
   ],
   "source": [
    "R2 = R - np.reshape(ru_mean, (5, 1))\n",
    "print('R\\' = \\n{}'.format(R2))"
   ]
  }
 ],
 "metadata": {
  "kernelspec": {
   "display_name": "Python 3",
   "language": "python",
   "name": "python3"
  },
  "language_info": {
   "codemirror_mode": {
    "name": "ipython",
    "version": 3
   },
   "file_extension": ".py",
   "mimetype": "text/x-python",
   "name": "python",
   "nbconvert_exporter": "python",
   "pygments_lexer": "ipython3",
   "version": "3.7.0"
  }
 },
 "nbformat": 4,
 "nbformat_minor": 2
}
