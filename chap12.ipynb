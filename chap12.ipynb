{
 "cells": [
  {
   "cell_type": "markdown",
   "metadata": {},
   "source": [
    "# 第12章 好き嫌い分類に基づく評価指標"
   ]
  },
  {
   "cell_type": "markdown",
   "metadata": {},
   "source": [
    "# テストデータと推薦リスト"
   ]
  },
  {
   "cell_type": "markdown",
   "metadata": {},
   "source": [
    "# 準備"
   ]
  },
  {
   "cell_type": "code",
   "execution_count": 1,
   "metadata": {},
   "outputs": [],
   "source": [
    "import numpy as np\n",
    "\n",
    "# テストデータ\n",
    "R = np.array([\n",
    "              [5, 4,      3, np.nan, 5, 4,      2,      2,      np.nan, np.nan],\n",
    "])\n",
    "U = np.arange(R.shape[0])\n",
    "I = np.arange(R.shape[1])\n",
    "Iu = [I[~np.isnan(R)[u,:]] for u in U]\n",
    "\n",
    "# 推薦システムAによる推薦リスト\n",
    "RA = np.array([\n",
    "               [1, 6, 3, np.nan, 4, 2, 5, 7, np.nan, np.nan],\n",
    "])\n",
    "\n",
    "# 推薦システムBによる推薦リスト\n",
    "RB = np.array([\n",
    "               [4, 3, 1, np.nan, 6, 7, 2, 5, np.nan, np.nan],\n",
    "])"
   ]
  },
  {
   "cell_type": "markdown",
   "metadata": {},
   "source": [
    "# 混同行列"
   ]
  },
  {
   "cell_type": "markdown",
   "metadata": {},
   "source": [
    "## 01 好きなアイテムか否かの判定\n",
    "## 02 推薦されたアイテムか否かの判定\n",
    "## 03 好きなアイテムが推薦された数（TP）\n",
    "## 04 好きなアイテムが推薦されなかった数（FN）\n",
    "## 05 嫌いなアイテムが推薦された数（FP）\n",
    "## 06 嫌いなアイテムが推薦されなかった数（TN）"
   ]
  },
  {
   "cell_type": "code",
   "execution_count": 2,
   "metadata": {},
   "outputs": [],
   "source": [
    "def confusion_matrix(u, RS, K):\n",
    "    \"\"\"\n",
    "    ユーザu向け推薦リストRSの上位K件における混同行列の各値を返す。\n",
    "\n",
    "    Parameters\n",
    "    ----------\n",
    "    u : int\n",
    "        ユーザuのID\n",
    "    RS : ndarray\n",
    "        推薦リストRS\n",
    "    K : int\n",
    "        上位K件\n",
    "\n",
    "    Returns\n",
    "    -------\n",
    "    int\n",
    "        TP\n",
    "    int\n",
    "        FN\n",
    "    int\n",
    "        FP\n",
    "    int\n",
    "        TN\n",
    "    \"\"\"\n",
    "    like = R[u, Iu[u]] >= 4\n",
    "    print('like = {}'.format(like))\n",
    "    recommended = np.argsort(RS[u, Iu[u]])[::-1] >= K\n",
    "    print('recommended@{} = {}'.format(K, recommended))\n",
    "    TP = np.count_nonzero(np.logical_and(like, recommended))\n",
    "    print('TP@{} = {}'.format(K, TP))\n",
    "    FN = np.count_nonzero(np.logical_and(like, ~recommended))\n",
    "    print('FN@{} = {}'.format(K, FN))\n",
    "    FP = np.count_nonzero(np.logical_and(~like, ~recommended))\n",
    "    print('FP@{} = {}'.format(K, FP))\n",
    "    TN = np.count_nonzero(np.logical_and(~like, recommended))\n",
    "    print('TN@{} = {}'.format(K, TN))\n",
    "    return TP, FN, FP, TN"
   ]
  },
  {
   "cell_type": "code",
   "execution_count": 3,
   "metadata": {},
   "outputs": [
    {
     "name": "stdout",
     "output_type": "stream",
     "text": [
      "like = [ True  True False  True  True False False]\n",
      "recommended@3 = [ True False  True  True False  True False]\n",
      "TP@3 = 2\n",
      "FN@3 = 2\n",
      "FP@3 = 1\n",
      "TN@3 = 2\n",
      "混同行列 = \n",
      "[[2 2]\n",
      " [1 2]]\n"
     ]
    }
   ],
   "source": [
    "u = 0\n",
    "K = 3\n",
    "TP, FN, FP, TN = confusion_matrix(u, RA, K)\n",
    "print('混同行列 = \\n{}'.format(np.array([[TP, FN], [FP, TN]])))"
   ]
  },
  {
   "cell_type": "markdown",
   "metadata": {},
   "source": [
    "# 真陽性率と偽陽性率"
   ]
  },
  {
   "cell_type": "markdown",
   "metadata": {},
   "source": [
    "## 07 真陽性率（TPR）\n",
    "## 08 偽陽性率（FPR）"
   ]
  },
  {
   "cell_type": "code",
   "execution_count": 4,
   "metadata": {},
   "outputs": [
    {
     "name": "stdout",
     "output_type": "stream",
     "text": [
      "TPR@3 = 0.500\n",
      "FPR@3 = 0.333\n"
     ]
    }
   ],
   "source": [
    "TPR = TP / (TP + FN)\n",
    "print('TPR@{} = {:.3f}'.format(K, TPR))\n",
    "FPR = FP / (FP + TN)\n",
    "print('FPR@{} = {:.3f}'.format(K, FPR))"
   ]
  },
  {
   "cell_type": "markdown",
   "metadata": {},
   "source": [
    "# 適合率と再現率"
   ]
  },
  {
   "cell_type": "markdown",
   "metadata": {},
   "source": [
    "## 09 適合率\n",
    "## 10 再現率\n",
    "## 11 F値"
   ]
  },
  {
   "cell_type": "code",
   "execution_count": 5,
   "metadata": {},
   "outputs": [
    {
     "name": "stdout",
     "output_type": "stream",
     "text": [
      "precision@3 = 0.667\n",
      "recall@3 = 0.500\n",
      "F1@3 = 0.571\n"
     ]
    }
   ],
   "source": [
    "precision = TP / (TP + FP)\n",
    "print('precision@{} = {:.3f}'.format(K, precision))\n",
    "recall = TP / (TP + FN)\n",
    "print('recall@{} = {:.3f}'.format(K, recall))\n",
    "F1 = 2 * precision * recall / (precision + recall)\n",
    "print('F1@{} = {:.3f}'.format(K, F1))"
   ]
  }
 ],
 "metadata": {
  "kernelspec": {
   "display_name": "Python 3",
   "language": "python",
   "name": "python3"
  },
  "language_info": {
   "codemirror_mode": {
    "name": "ipython",
    "version": 3
   },
   "file_extension": ".py",
   "mimetype": "text/x-python",
   "name": "python",
   "nbconvert_exporter": "python",
   "pygments_lexer": "ipython3",
   "version": "3.7.0"
  }
 },
 "nbformat": 4,
 "nbformat_minor": 2
}
