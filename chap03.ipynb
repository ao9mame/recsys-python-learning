{
 "cells": [
  {
   "cell_type": "markdown",
   "metadata": {},
   "source": [
    "# 第3章 類似度に基づく推薦"
   ]
  },
  {
   "cell_type": "markdown",
   "metadata": {},
   "source": [
    "# 準備"
   ]
  },
  {
   "cell_type": "code",
   "execution_count": 1,
   "metadata": {},
   "outputs": [],
   "source": [
    "import pprint\n",
    "import numpy as np\n",
    "\n",
    "# 上位K件\n",
    "TOP_K = 3\n",
    "\n",
    "Du = np.array([\n",
    "               [5, 3, +1],\n",
    "               [6, 2, +1],\n",
    "               [4, 1, +1],\n",
    "               [8, 5, -1],\n",
    "               [2, 4, -1],\n",
    "               [3, 6, -1],\n",
    "               [7, 6, -1],\n",
    "               [4, 2, np.nan],\n",
    "               [5, 1, np.nan],\n",
    "               [8, 6, np.nan],\n",
    "               [3, 4, np.nan],\n",
    "               [4, 7, np.nan],\n",
    "               [4, 4, np.nan],\n",
    "])\n",
    "I = np.arange(Du.shape[0])\n",
    "x = Du[:,:-1]\n",
    "ru = Du[:,-1]\n",
    "\n",
    "Iu = I[~np.isnan(ru)]\n",
    "Iup = I[ru==+1]\n",
    "Iun = I[ru==-1]\n",
    "Iu_not = np.setdiff1d(I, Iu)"
   ]
  },
  {
   "cell_type": "markdown",
   "metadata": {},
   "source": [
    "# ユーザプロファイル"
   ]
  },
  {
   "cell_type": "markdown",
   "metadata": {},
   "source": [
    "## 01 好きなアイテム集合に含まれるアイテムの特徴ベクトルの集合"
   ]
  },
  {
   "cell_type": "code",
   "execution_count": 2,
   "metadata": {},
   "outputs": [
    {
     "name": "stdout",
     "output_type": "stream",
     "text": [
      "x[Iu+] = \n",
      "[[5. 3.]\n",
      " [6. 2.]\n",
      " [4. 1.]]\n"
     ]
    }
   ],
   "source": [
    "print('x[Iu+] = \\n{}'.format(x[Iup]))"
   ]
  },
  {
   "cell_type": "markdown",
   "metadata": {},
   "source": [
    "## 02 特徴ベクトルの総和"
   ]
  },
  {
   "cell_type": "code",
   "execution_count": 3,
   "metadata": {},
   "outputs": [
    {
     "name": "stdout",
     "output_type": "stream",
     "text": [
      "sum(x[Iu+]) = [15.  6.]\n"
     ]
    }
   ],
   "source": [
    "print('sum(x[Iu+]) = {}'.format(np.sum(x[Iup], axis=0)))"
   ]
  },
  {
   "cell_type": "markdown",
   "metadata": {},
   "source": [
    "## 03 ユーザプロファイル"
   ]
  },
  {
   "cell_type": "code",
   "execution_count": 4,
   "metadata": {},
   "outputs": [
    {
     "name": "stdout",
     "output_type": "stream",
     "text": [
      "pu = [5. 2.]\n"
     ]
    }
   ],
   "source": [
    "pu = np.sum(x[Iup], axis=0) / Iup.shape\n",
    "print('pu = {}'.format(pu))"
   ]
  },
  {
   "cell_type": "markdown",
   "metadata": {},
   "source": [
    "# コサイン類似度\n",
    "## 04 ベクトルの内積\n",
    "## 05 ユーザプロファイルのノルム\n",
    "## 06 特徴ベクトルのノルム"
   ]
  },
  {
   "cell_type": "code",
   "execution_count": 5,
   "metadata": {},
   "outputs": [],
   "source": [
    "def cos(pu, xi):\n",
    "    \"\"\"\n",
    "    コサイン類似度関数：ユーザプロファイルpuとアイテムiの特徴ベクトルxiのコサイン類似度を返す。\n",
    "\n",
    "    Parameters\n",
    "    ----------\n",
    "    pu : ndarray\n",
    "        ユーザuのユーザプロファイル\n",
    "    xi : ndarray\n",
    "        アイテムiの特徴ベクトル\n",
    "\n",
    "    Returns\n",
    "    -------\n",
    "    float\n",
    "        コサイン類似度\n",
    "    \"\"\"\n",
    "    num = np.dot(pu, xi)\n",
    "    print('num = {}'.format(num))\n",
    "    den_u = np.linalg.norm(pu)\n",
    "    print('den_u = {:.3f}'.format(den_u))\n",
    "    den_i = np.linalg.norm(xi)\n",
    "    print('den_i = {:.3f}'.format(den_i))\n",
    "    \n",
    "    cosine = num / (den_u * den_i)\n",
    "    return cosine"
   ]
  },
  {
   "cell_type": "code",
   "execution_count": 6,
   "metadata": {},
   "outputs": [
    {
     "name": "stdout",
     "output_type": "stream",
     "text": [
      "num = 24.0\n",
      "den_u = 5.385\n",
      "den_i = 4.472\n",
      "cos(p0, x7) = 0.997\n",
      "num = 34.0\n",
      "den_u = 5.385\n",
      "den_i = 8.062\n",
      "cos(p0, x11) = 0.783\n"
     ]
    }
   ],
   "source": [
    "u = 0\n",
    "i = 7\n",
    "print('cos(p{}, x{}) = {:.3f}'.format(u, i, cos(pu, x[i])))\n",
    "u = 0\n",
    "i = 11\n",
    "print('cos(p{}, x{}) = {:.3f}'.format(u, i, cos(pu, x[i])))"
   ]
  },
  {
   "cell_type": "markdown",
   "metadata": {},
   "source": [
    "# 推薦"
   ]
  },
  {
   "cell_type": "markdown",
   "metadata": {},
   "source": [
    "## 07 各アイテムに対するスコア\n",
    "## 08 推薦リスト"
   ]
  },
  {
   "cell_type": "code",
   "execution_count": 7,
   "metadata": {},
   "outputs": [],
   "source": [
    "def score(u, i):\n",
    "    \"\"\"\n",
    "    スコア関数：ユーザuのアイテムiに対するスコアを返す。\n",
    "\n",
    "    Parameters\n",
    "    ----------\n",
    "    u : int\n",
    "        ユーザuのID（ダミー）\n",
    "    i : int\n",
    "        アイテムiのID\n",
    "\n",
    "    Returns\n",
    "    -------\n",
    "    float\n",
    "        スコア\n",
    "    \"\"\"\n",
    "    return cos(pu, x[i])"
   ]
  },
  {
   "cell_type": "code",
   "execution_count": 8,
   "metadata": {},
   "outputs": [],
   "source": [
    "def order(u, I):\n",
    "    \"\"\"\n",
    "    順序付け関数：アイテム集合Iにおいて、ユーザu向けの推薦リストを返す。\n",
    "\n",
    "    Parameters\n",
    "    ----------\n",
    "    u : int\n",
    "        ユーザuのID\n",
    "    I : ndarray\n",
    "        アイテム集合\n",
    "\n",
    "    Returns\n",
    "    -------\n",
    "    list\n",
    "        タプル(アイテムID: スコア)を要素にした推薦リスト\n",
    "    \"\"\"\n",
    "    scores = {i: score(u, i) for i in Iu_not}\n",
    "    print('scores = ')\n",
    "    pprint.pprint(scores)\n",
    "    rec_list = sorted(scores.items(), key=lambda x: x[1], reverse=True)[:TOP_K]\n",
    "    return rec_list"
   ]
  },
  {
   "cell_type": "code",
   "execution_count": 9,
   "metadata": {},
   "outputs": [
    {
     "name": "stdout",
     "output_type": "stream",
     "text": [
      "num = 24.0\n",
      "den_u = 5.385\n",
      "den_i = 4.472\n",
      "num = 27.0\n",
      "den_u = 5.385\n",
      "den_i = 5.099\n",
      "num = 52.0\n",
      "den_u = 5.385\n",
      "den_i = 10.000\n",
      "num = 23.0\n",
      "den_u = 5.385\n",
      "den_i = 5.000\n",
      "num = 34.0\n",
      "den_u = 5.385\n",
      "den_i = 8.062\n",
      "num = 28.0\n",
      "den_u = 5.385\n",
      "den_i = 5.657\n",
      "scores = \n",
      "{7: 0.9965457582448796,\n",
      " 8: 0.9832820049844603,\n",
      " 9: 0.9656157585206697,\n",
      " 10: 0.8541985556144386,\n",
      " 11: 0.783110847498294,\n",
      " 12: 0.9191450300180578}\n",
      "rec_list = \n",
      "7: 0.997\n",
      "8: 0.983\n",
      "9: 0.966\n"
     ]
    }
   ],
   "source": [
    "u = 0\n",
    "rec_list = order(u, Iu_not)\n",
    "print('rec_list = ')\n",
    "for i, scr in rec_list:\n",
    "    print('{}: {:.3f}'.format(i, scr))"
   ]
  }
 ],
 "metadata": {
  "kernelspec": {
   "display_name": "Python 3",
   "language": "python",
   "name": "python3"
  },
  "language_info": {
   "codemirror_mode": {
    "name": "ipython",
    "version": 3
   },
   "file_extension": ".py",
   "mimetype": "text/x-python",
   "name": "python",
   "nbconvert_exporter": "python",
   "pygments_lexer": "ipython3",
   "version": "3.7.0"
  }
 },
 "nbformat": 4,
 "nbformat_minor": 2
}
