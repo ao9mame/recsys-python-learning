{
 "cells": [
  {
   "cell_type": "markdown",
   "metadata": {},
   "source": [
    "# 第8章 評価値行列の次元削減"
   ]
  },
  {
   "cell_type": "markdown",
   "metadata": {},
   "source": [
    "# 準備"
   ]
  },
  {
   "cell_type": "code",
   "execution_count": 1,
   "metadata": {},
   "outputs": [],
   "source": [
    "import numpy as np\n",
    "import numpy.linalg as LA\n",
    "np.set_printoptions(precision=3)\n",
    "\n",
    "# 縮約後の次元数\n",
    "DIM = 2\n",
    "\n",
    "R = np.array([\n",
    "              [np.nan, 4,      3,      1,      2,      np.nan],\n",
    "              [5,      5,      4,      np.nan, 3,      3     ],\n",
    "              [4,      np.nan, 5,      3,      2,      np.nan],\n",
    "              [np.nan, 3,      np.nan, 2,      1,      1     ],\n",
    "              [2,      1,      2,      4,      np.nan, 3     ],\n",
    "])\n",
    "U = np.arange(R.shape[0])\n",
    "I = np.arange(R.shape[1])\n",
    "Ui = [U[~np.isnan(R)[:,i]] for i in I]\n",
    "Iu = [I[~np.isnan(R)[u,:]] for u in U]\n",
    "ru_mean = np.nanmean(R, axis=1)\n",
    "R2 = R - ru_mean.reshape((ru_mean.size, 1))"
   ]
  },
  {
   "cell_type": "markdown",
   "metadata": {},
   "source": [
    "# 分散共分散行列"
   ]
  },
  {
   "cell_type": "markdown",
   "metadata": {},
   "source": [
    "## 01 各アイテムに対して与えられた平均中心化評価値の平均値"
   ]
  },
  {
   "cell_type": "code",
   "execution_count": 2,
   "metadata": {},
   "outputs": [
    {
     "name": "stdout",
     "output_type": "stream",
     "text": [
      "ri2_mean = [ 0.367  0.588  0.4   -0.037 -0.938 -0.383]\n"
     ]
    }
   ],
   "source": [
    "ri2_mean = np.nanmean(R2, axis=0)\n",
    "print('ri2_mean = {}'.format(ri2_mean))"
   ]
  },
  {
   "cell_type": "markdown",
   "metadata": {},
   "source": [
    "## 02 各アイテムの平均中心化評価値の分散"
   ]
  },
  {
   "cell_type": "code",
   "execution_count": 3,
   "metadata": {},
   "outputs": [
    {
     "name": "stdout",
     "output_type": "stream",
     "text": [
      "s^2 = [0.336 1.348 0.505 1.279 0.137 0.494]\n"
     ]
    }
   ],
   "source": [
    "s2 = np.nanvar(R2 - ri2_mean, axis=0)\n",
    "print('s^2 = {}'.format(s2))"
   ]
  },
  {
   "cell_type": "markdown",
   "metadata": {},
   "source": [
    "## 03 アイテムiとアイテムjの平均中心化評価値の共分散"
   ]
  },
  {
   "cell_type": "code",
   "execution_count": 4,
   "metadata": {},
   "outputs": [
    {
     "name": "stdout",
     "output_type": "stream",
     "text": [
      "s01 = 0.892\n"
     ]
    }
   ],
   "source": [
    "i = 0\n",
    "j = 1\n",
    "Uij = np.intersect1d(Ui[i], Ui[j])\n",
    "\n",
    "if Uij.size >= 1:\n",
    "    sij = np.sum([(R2[u, i] - ri2_mean[i]) * (R2[u, j] - ri2_mean[j]) for u in Uij]) / Uij.size\n",
    "else:\n",
    "    sij = 0\n",
    "    \n",
    "print('s{}{} = {:.3f}'.format(i, j, sij))"
   ]
  },
  {
   "cell_type": "markdown",
   "metadata": {},
   "source": [
    "## 04 分散共分散行列"
   ]
  },
  {
   "cell_type": "code",
   "execution_count": 5,
   "metadata": {},
   "outputs": [
    {
     "name": "stdout",
     "output_type": "stream",
     "text": [
      "S = \n",
      "[[ 0.336  0.892  0.169 -0.659 -0.057 -0.572]\n",
      " [ 0.892  1.348  0.505 -1.466  0.166 -0.817]\n",
      " [ 0.169  0.505  0.505 -0.655 -0.183 -0.27 ]\n",
      " [-0.659 -1.466 -0.655  1.279 -0.109  0.752]\n",
      " [-0.057  0.166 -0.183 -0.109  0.137 -0.015]\n",
      " [-0.572 -0.817 -0.27   0.752 -0.015  0.494]]\n"
     ]
    }
   ],
   "source": [
    "S = np.zeros((I.size, I.size))\n",
    "for i in I:\n",
    "    for j in I:\n",
    "        Uij = np.intersect1d(Ui[i], Ui[j])\n",
    "        \n",
    "        if Uij.size >= 1:\n",
    "            S[i, j] = np.sum([(R2[u, i] - ri2_mean[i]) * (R2[u, j] - ri2_mean[j]) for u in Uij]) / Uij.size\n",
    "        else:\n",
    "            S[i, j] = 0\n",
    "\n",
    "print('S = \\n{}'.format(S))"
   ]
  },
  {
   "cell_type": "markdown",
   "metadata": {},
   "source": [
    "# 固有値・固有ベクトル"
   ]
  },
  {
   "cell_type": "markdown",
   "metadata": {},
   "source": [
    "## 05 固有値・固有ベクトル"
   ]
  },
  {
   "cell_type": "code",
   "execution_count": 6,
   "metadata": {},
   "outputs": [
    {
     "name": "stdout",
     "output_type": "stream",
     "text": [
      "λ = [ 3.909  0.48   0.233 -0.315 -0.049 -0.16 ]\n",
      "v = \n",
      "[[-0.327 -0.228 -0.484  0.685  0.279 -0.245]\n",
      " [-0.609 -0.211  0.099 -0.565  0.371 -0.344]\n",
      " [-0.245  0.806  0.097  0.134 -0.202 -0.472]\n",
      " [ 0.583 -0.126 -0.374 -0.258 -0.019 -0.661]\n",
      " [-0.028 -0.462  0.624  0.294 -0.394 -0.393]\n",
      " [ 0.348  0.157  0.465  0.204  0.767 -0.087]]\n"
     ]
    }
   ],
   "source": [
    "lmd, v = np.linalg.eig(S)\n",
    "print('λ = {}'.format(lmd))\n",
    "print('v = \\n{}'.format(v))"
   ]
  },
  {
   "cell_type": "markdown",
   "metadata": {},
   "source": [
    "## 06 第d主成分までの固有ベクトル"
   ]
  },
  {
   "cell_type": "code",
   "execution_count": 7,
   "metadata": {},
   "outputs": [
    {
     "name": "stdout",
     "output_type": "stream",
     "text": [
      "V = \n",
      "[[ 0.327  0.228]\n",
      " [ 0.609  0.211]\n",
      " [ 0.245 -0.806]\n",
      " [-0.583  0.126]\n",
      " [ 0.028  0.462]\n",
      " [-0.348 -0.157]]\n"
     ]
    }
   ],
   "source": [
    "# 結果と平仄を合わせるため、符合を反転\n",
    "V = -v[:, :DIM]\n",
    "print('V = \\n{}'.format(V))"
   ]
  },
  {
   "cell_type": "markdown",
   "metadata": {},
   "source": [
    "# 主成分得点"
   ]
  },
  {
   "cell_type": "markdown",
   "metadata": {},
   "source": [
    "## 07 ユーザuの第k主成分得点"
   ]
  },
  {
   "cell_type": "code",
   "execution_count": 8,
   "metadata": {},
   "outputs": [
    {
     "name": "stdout",
     "output_type": "stream",
     "text": [
      "p00 = 0.474\n"
     ]
    }
   ],
   "source": [
    "u = 0\n",
    "k = 0\n",
    "puk = np.sum([R2[u, i] * V[i, k] for i in Iu[u]]) / Iu[u].size\n",
    "print('p{}{} = {:.3f}'.format(u, k, puk))"
   ]
  },
  {
   "cell_type": "markdown",
   "metadata": {},
   "source": [
    "## 08 潜在因子行列"
   ]
  },
  {
   "cell_type": "code",
   "execution_count": 9,
   "metadata": {},
   "outputs": [
    {
     "name": "stdout",
     "output_type": "stream",
     "text": [
      "P = \n",
      "[[ 0.474 -0.127]\n",
      " [ 0.251  0.027]\n",
      " [ 0.195 -0.463]\n",
      " [ 0.214  0.017]\n",
      " [-0.445  0.009]]\n"
     ]
    }
   ],
   "source": [
    "P = np.zeros((U.size, DIM))\n",
    "\n",
    "for u in U:\n",
    "    for k in range(DIM):\n",
    "        P[u, k] = np.sum([R2[u, i] * V[i, k] for i in Iu[u]]) / Iu[u].size\n",
    "        \n",
    "print('P = \\n{}'.format(P))"
   ]
  }
 ],
 "metadata": {
  "kernelspec": {
   "display_name": "Python 3",
   "language": "python",
   "name": "python3"
  },
  "language_info": {
   "codemirror_mode": {
    "name": "ipython",
    "version": 3
   },
   "file_extension": ".py",
   "mimetype": "text/x-python",
   "name": "python",
   "nbconvert_exporter": "python",
   "pygments_lexer": "ipython3",
   "version": "3.7.0"
  }
 },
 "nbformat": 4,
 "nbformat_minor": 2
}
