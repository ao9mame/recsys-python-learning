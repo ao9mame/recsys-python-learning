{
 "cells": [
  {
   "cell_type": "markdown",
   "metadata": {},
   "source": [
    "# 第6章 アイテムベース協調フィルタリング"
   ]
  },
  {
   "cell_type": "markdown",
   "metadata": {},
   "source": [
    "# 準備"
   ]
  },
  {
   "cell_type": "code",
   "execution_count": 1,
   "metadata": {},
   "outputs": [],
   "source": [
    "import pprint\n",
    "import numpy as np\n",
    "np.set_printoptions(precision=3)\n",
    "\n",
    "# 近傍アイテム数\n",
    "K_ITEMS = 3\n",
    "# 閾値\n",
    "THETA = 0\n",
    "\n",
    "R = np.array([\n",
    "              [np.nan, 4,      3,      1,      2,      np.nan],\n",
    "              [5,      5,      4,      np.nan, 3,      3     ],\n",
    "              [4,      np.nan, 5,      3,      2,      np.nan],\n",
    "              [np.nan, 3,      np.nan, 2,      1,      1     ],\n",
    "              [2,      1,      2,      4,      np.nan, 3     ],\n",
    "])\n",
    "U = np.arange(R.shape[0])\n",
    "I = np.arange(R.shape[1])\n",
    "Ui = [U[~np.isnan(R)[:,i]] for i in I]\n",
    "Iu = [I[~np.isnan(R)[u,:]] for u in U]\n",
    "ru_mean = np.nanmean(R, axis=1)\n",
    "R2 = R - ru_mean.reshape((ru_mean.size, 1))"
   ]
  },
  {
   "cell_type": "markdown",
   "metadata": {},
   "source": [
    "# コサイン類似度"
   ]
  },
  {
   "cell_type": "markdown",
   "metadata": {},
   "source": [
    "## 01 アイテムiとアイテムjのコサイン類似度"
   ]
  },
  {
   "cell_type": "code",
   "execution_count": 2,
   "metadata": {},
   "outputs": [],
   "source": [
    "def cos(i, j):\n",
    "    \"\"\"\n",
    "    評価値行列Rにおけるアイテムiとアイテムjのコサイン類似度を返す。\n",
    "\n",
    "    Parameters\n",
    "    ----------\n",
    "    i : int\n",
    "        アイテムiのID\n",
    "    j : int\n",
    "        アイテムjのID\n",
    "\n",
    "    Returns\n",
    "    -------\n",
    "    float\n",
    "        コサイン類似度\n",
    "    \"\"\"\n",
    "    Uij = np.intersect1d(Ui[i], Ui[j])\n",
    "    \n",
    "    cosine = np.sum([R[u, i] * R[u, j] for u in Uij]) / \\\n",
    "        (np.sqrt(np.sum([R[u, i] **2 for u in Uij])) * np.sqrt(np.sum([R[u, j] **2 for u in Uij])))\n",
    "    return cosine"
   ]
  },
  {
   "cell_type": "code",
   "execution_count": 3,
   "metadata": {},
   "outputs": [
    {
     "name": "stdout",
     "output_type": "stream",
     "text": [
      "cos(0, 4) = 0.996\n"
     ]
    }
   ],
   "source": [
    "i = 0\n",
    "j = 4\n",
    "cosine = cos(i, j)\n",
    "print('cos({}, {}) = {:.3f}'.format(i, j, cosine))"
   ]
  },
  {
   "cell_type": "markdown",
   "metadata": {},
   "source": [
    "# 調整コサイン類似度"
   ]
  },
  {
   "cell_type": "markdown",
   "metadata": {},
   "source": [
    "## 02 アイテムiとアイテムjの調整コサイン類似度"
   ]
  },
  {
   "cell_type": "code",
   "execution_count": 4,
   "metadata": {},
   "outputs": [],
   "source": [
    "def adjusted_cos(i, j):\n",
    "    \"\"\"\n",
    "    評価値行列R2におけるアイテムiとアイテムjの調整コサイン類似度を返す。\n",
    "\n",
    "    Parameters\n",
    "    ----------\n",
    "    i : int\n",
    "        アイテムiのID\n",
    "    j : int\n",
    "        アイテムjのID\n",
    "\n",
    "    Returns\n",
    "    -------\n",
    "    cosine : float\n",
    "        調整コサイン類似度\n",
    "    \"\"\"\n",
    "    Uij = np.intersect1d(Ui[i], Ui[j])\n",
    "    \n",
    "    cosine = np.sum([R2[u, i] * R2[u, j] for u in Uij]) / \\\n",
    "        (np.sqrt(np.sum([R2[u, i] **2 for u in Uij])) * np.sqrt(np.sum([R2[u, j] **2 for u in Uij])))\n",
    "    return cosine"
   ]
  },
  {
   "cell_type": "code",
   "execution_count": 5,
   "metadata": {},
   "outputs": [
    {
     "name": "stdout",
     "output_type": "stream",
     "text": [
      "cos(0, 4)' = -0.868\n"
     ]
    }
   ],
   "source": [
    "i = 0\n",
    "j = 4\n",
    "cosine = adjusted_cos(i, j)\n",
    "print('cos({}, {})\\' = {:.3f}'.format(i, j, cosine))"
   ]
  },
  {
   "cell_type": "markdown",
   "metadata": {},
   "source": [
    "# アイテム-アイテム類似度行列"
   ]
  },
  {
   "cell_type": "code",
   "execution_count": 6,
   "metadata": {},
   "outputs": [],
   "source": [
    "def sim(i, j):\n",
    "    \"\"\"\n",
    "    アイテム類似度関数：アイテムiとアイテムjのアイテム類似度を返す。\n",
    "\n",
    "    Parameters\n",
    "    ----------\n",
    "    i : int\n",
    "        アイテムiのID\n",
    "    j : int\n",
    "        アイテムjのID\n",
    "\n",
    "    Returns\n",
    "    -------\n",
    "    float\n",
    "        アイテム類似度\n",
    "    \"\"\"\n",
    "    return adjusted_cos(i, j)"
   ]
  },
  {
   "cell_type": "markdown",
   "metadata": {},
   "source": [
    "## 03 アイテム-アイテム類似度行列"
   ]
  },
  {
   "cell_type": "code",
   "execution_count": 7,
   "metadata": {},
   "outputs": [
    {
     "name": "stdout",
     "output_type": "stream",
     "text": [
      "S = \n",
      "[[ 1.     0.842  0.494 -0.829 -0.868 -0.987]\n",
      " [ 0.842  1.     0.896 -0.788 -0.91  -0.942]\n",
      " [ 0.494  0.896  1.    -0.583 -0.845 -0.514]\n",
      " [-0.829 -0.788 -0.583  1.     0.469  0.497]\n",
      " [-0.868 -0.91  -0.845  0.469  1.     1.   ]\n",
      " [-0.987 -0.942 -0.514  0.497  1.     1.   ]]\n"
     ]
    }
   ],
   "source": [
    "S = np.zeros((I.size, I.size))\n",
    "for i in I:\n",
    "    for j in I:\n",
    "        S[i, j] = sim(i, j)\n",
    "print('S = \\n{}'.format(S))"
   ]
  },
  {
   "cell_type": "markdown",
   "metadata": {},
   "source": [
    "# 類似アイテムの選定"
   ]
  },
  {
   "cell_type": "markdown",
   "metadata": {},
   "source": [
    "## 04 類似度上位k件のアイテム集合"
   ]
  },
  {
   "cell_type": "markdown",
   "metadata": {},
   "source": [
    "## 05 類似度がしきい値以上のアイテム集合"
   ]
  },
  {
   "cell_type": "code",
   "execution_count": 8,
   "metadata": {},
   "outputs": [
    {
     "name": "stdout",
     "output_type": "stream",
     "text": [
      "Ii = \n",
      "{0: {1: 0.8418791389638738,\n",
      "     2: 0.49365474375598073,\n",
      "     3: -0.8291725540450335,\n",
      "     4: -0.8682431421244593,\n",
      "     5: -0.987241120712647},\n",
      " 1: {0: 0.8418791389638738,\n",
      "     2: 0.896314672184623,\n",
      "     3: -0.7876958617794716,\n",
      "     4: -0.9099637547345425,\n",
      "     5: -0.9419581446623225},\n",
      " 2: {0: 0.49365474375598073,\n",
      "     1: 0.896314672184623,\n",
      "     3: -0.5833076828172804,\n",
      "     4: -0.8451542547285166,\n",
      "     5: -0.5144957554275266},\n",
      " 3: {0: -0.8291725540450335,\n",
      "     1: -0.7876958617794716,\n",
      "     2: -0.5833076828172804,\n",
      "     4: 0.4685212856658182,\n",
      "     5: 0.49665813370370504},\n",
      " 4: {0: -0.8682431421244593,\n",
      "     1: -0.9099637547345425,\n",
      "     2: -0.8451542547285166,\n",
      "     3: 0.4685212856658182,\n",
      "     5: 1.0},\n",
      " 5: {0: -0.987241120712647,\n",
      "     1: -0.9419581446623225,\n",
      "     2: -0.5144957554275266,\n",
      "     3: 0.49665813370370504,\n",
      "     4: 1.0}}\n",
      "Ii = \n",
      "{0: {1: 0.8418791389638738, 2: 0.49365474375598073, 3: -0.8291725540450335},\n",
      " 1: {0: 0.8418791389638738, 2: 0.896314672184623, 3: -0.7876958617794716},\n",
      " 2: {0: 0.49365474375598073, 1: 0.896314672184623, 5: -0.5144957554275266},\n",
      " 3: {2: -0.5833076828172804, 4: 0.4685212856658182, 5: 0.49665813370370504},\n",
      " 4: {2: -0.8451542547285166, 3: 0.4685212856658182, 5: 1.0},\n",
      " 5: {2: -0.5144957554275266, 3: 0.49665813370370504, 4: 1.0}}\n",
      "Ii = \n",
      "{0: {1: 0.8418791389638738, 2: 0.49365474375598073},\n",
      " 1: {0: 0.8418791389638738, 2: 0.896314672184623},\n",
      " 2: {0: 0.49365474375598073, 1: 0.896314672184623},\n",
      " 3: {4: 0.4685212856658182, 5: 0.49665813370370504},\n",
      " 4: {3: 0.4685212856658182, 5: 1.0},\n",
      " 5: {3: 0.49665813370370504, 4: 1.0}}\n",
      "Ii = \n",
      "{0: array([1, 2]),\n",
      " 1: array([2, 0]),\n",
      " 2: array([1, 0]),\n",
      " 3: array([5, 4]),\n",
      " 4: array([5, 3]),\n",
      " 5: array([4, 3])}\n"
     ]
    }
   ],
   "source": [
    "# アイテム-アイテム類似度行列から対象アイテムを除外した辞書\n",
    "Ii = {i: {j: S[i,j] for j in I if i != j} for i in I}\n",
    "print('Ii = ')\n",
    "pprint.pprint(Ii)\n",
    "Ii = {i: dict(sorted(Ii[i].items(), key=lambda x: x[1], reverse=True)[:K_ITEMS]) for i in I}\n",
    "print('Ii = ')\n",
    "pprint.pprint(Ii)\n",
    "Ii = {i: {k: v for k, v in Ii[i].items() if v >= THETA} for i in I}\n",
    "print('Ii = ')\n",
    "pprint.pprint(Ii)\n",
    "# 各アイテムの類似アイテム集合をまとめた辞書\n",
    "Ii = {i: np.array(list(Ii[i].keys())) for i in I}\n",
    "print('Ii = ')\n",
    "pprint.pprint(Ii)"
   ]
  },
  {
   "cell_type": "markdown",
   "metadata": {},
   "source": [
    "# 嗜好予測"
   ]
  },
  {
   "cell_type": "markdown",
   "metadata": {},
   "source": [
    "## 06 類似アイテム集合の中でユーザuが評価値を与えているアイテム集合"
   ]
  },
  {
   "cell_type": "markdown",
   "metadata": {},
   "source": [
    "## 07 予測評価値"
   ]
  },
  {
   "cell_type": "code",
   "execution_count": 9,
   "metadata": {},
   "outputs": [],
   "source": [
    "def predict(u, i):\n",
    "    \"\"\"\n",
    "    予測関数：ユーザuのアイテムiに対する予測評価値を返す。\n",
    "\n",
    "    Parameters\n",
    "    ----------\n",
    "    u : int\n",
    "        ユーザuのID\n",
    "    i : int\n",
    "        アイテムiのID\n",
    "    \n",
    "    Returns\n",
    "    -------\n",
    "    float\n",
    "        ユーザuのアイテムiに対する予測評価値\n",
    "    \"\"\"\n",
    "    Iiu = np.intersect1d(Ii[i], Iu[u])\n",
    "    print('I{}{} = {}'.format(i, u, Iiu))\n",
    "\n",
    "    if Iiu.size <= 0: return ru_mean[u]\n",
    "    rui_pred = np.sum(S[i, Iiu] * R[u, Iiu]) / np.sum(np.abs(S[i, Iiu]))\n",
    "    \n",
    "    return rui_pred"
   ]
  },
  {
   "cell_type": "code",
   "execution_count": 10,
   "metadata": {},
   "outputs": [
    {
     "name": "stdout",
     "output_type": "stream",
     "text": [
      "I00 = [1 2]\n",
      "r00 = 3.630\n",
      "I50 = [3 4]\n",
      "r05 = 1.668\n"
     ]
    }
   ],
   "source": [
    "u = 0\n",
    "i = 0\n",
    "print('r{}{} = {:.3f}'.format(u, i, predict(u, i)))\n",
    "u = 0\n",
    "i = 5\n",
    "print('r{}{} = {:.3f}'.format(u, i, predict(u, i)))"
   ]
  }
 ],
 "metadata": {
  "kernelspec": {
   "display_name": "Python 3",
   "language": "python",
   "name": "python3"
  },
  "language_info": {
   "codemirror_mode": {
    "name": "ipython",
    "version": 3
   },
   "file_extension": ".py",
   "mimetype": "text/x-python",
   "name": "python",
   "nbconvert_exporter": "python",
   "pygments_lexer": "ipython3",
   "version": "3.7.0"
  }
 },
 "nbformat": 4,
 "nbformat_minor": 2
}
